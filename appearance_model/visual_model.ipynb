{
  "cells": [
    {
      "cell_type": "code",
      "execution_count": null,
      "id": "282bc178",
      "metadata": {
        "id": "282bc178"
      },
      "outputs": [],
      "source": [
        "import os\n",
        "import json\n",
        "import pickle\n",
        "import random\n",
        "from shutil import rmtree\n",
        "\n",
        "import numpy as np\n",
        "import torch\n",
        "import torch.utils.data as data\n",
        "from PIL import Image\n",
        "from torchvision import transforms\n",
        "import _pickle as pickle\n",
        "import torch.nn as nn\n",
        "import torchvision.models as models\n",
        "import torch.nn.functional as F\n",
        "import matplotlib.pyplot as plt\n",
        "import matplotlib.patches as patches\n",
        "import cv2\n",
        "import sys\n",
        "import uuid"
      ]
    },
    {
      "cell_type": "markdown",
      "id": "127fa053",
      "metadata": {
        "id": "127fa053"
      },
      "source": [
        "# prepare dataset\n",
        "\n",
        "The dataset is obtained from bdd100k MOT 2020 (https://doc.bdd100k.com/download.html#mot-2020-images): Multi-object bounding box tracking videos in frames released in 2020.\n",
        "We only select a subset of videos from their partition \"train01\", and then we randomly partition them into training and test sets (80%-20%)\n",
        "\n",
        "The training set contains 80 videos and the test set contains 20 videos. Each video has 30 frames. The dataset also comes with ground truth object detection and object traking labels. There are totally 30772 bounding box labels.\n",
        "\n",
        "\n",
        "#### Folder structure:\n",
        "bdd100k\\\n",
        "|-images            # contains frames of each video.\\\n",
        "|-labels.pickle     # contains all the labels\\\n",
        "|-train.txt         # contains names of videos in the training set\\\n",
        "|-test.txt          # contains names of videos in the test set\n",
        "\n",
        "\n",
        "To load the labels, you can run the following python code:\\\n",
        "    import pickle\\\n",
        "    with open(\"bdd100k/labels.pickle\", \"rb\") as file:\\\n",
        "         labels = pickle.load(file)\n",
        "         \n",
        "The loaded labels is a dictionary where each key is file name of an image, and the value is a list of labels. For example, for the image '0000f77c-62c2a288-0000001.jpg', there is a list of labels:\\\n",
        "{'0000f77c-62c2a288-0000001.jpg': [{'id': '00020715',\\\n",
        "&emsp;   'category': 'car',\\\n",
        "&emsp;   'attributes': {'occluded': False, 'truncated': False, 'crowd': False},\\\n",
        "&emsp;   'box2d': {'x1': 123.8345864661654,\\\n",
        "&emsp;    'x2': 236.16541353383457,\\\n",
        "&emsp;    'y1': 338.3458646616541,\\\n",
        "&emsp;    'y2': 396.5413533834586}}, ...]\\\n",
        "}\\\n",
        "Each label has an id that identifies a unique object. If the same object occurs in two different frames (images), the two labels will have the same object id. If they are not the same object, they will have different object ids. The x and y values define bounding boxes for detected objects."
      ]
    },
    {
      "cell_type": "code",
      "execution_count": null,
      "id": "03bba596",
      "metadata": {
        "id": "03bba596"
      },
      "outputs": [],
      "source": [
        "# get images\n",
        "videofiles = []\n",
        "for filename in os.listdir(\"bdd100k/images/\"):\n",
        "    videofiles.append(filename)\n",
        "random.shuffle(videofiles)"
      ]
    },
    {
      "cell_type": "code",
      "execution_count": null,
      "id": "90419e37",
      "metadata": {
        "id": "90419e37"
      },
      "outputs": [],
      "source": [
        "# shrink dataset size to 100 videos and 30 frames per video\n",
        "for f in videofiles[100:]:\n",
        "    rmtree(os.path.join(\"bdd100k/images\", f))\n",
        "    \n",
        "videofiles = videofiles[0:100]\n",
        "for f in videofiles:\n",
        "    for filename in os.listdir(os.path.join(\"bdd100k/images\", f))[30:]:\n",
        "        os.remove(os.path.join(\"bdd100k/images\", f,  filename))"
      ]
    },
    {
      "cell_type": "code",
      "execution_count": null,
      "id": "22604308",
      "metadata": {
        "id": "22604308"
      },
      "outputs": [],
      "source": [
        "# get corresponding labels\n",
        "labels={}\n",
        "for filename in os.listdir(\"bdd100k/labels\"):\n",
        "    if filename[:-5] in videofiles:\n",
        "        with open(os.path.join(\"bdd100k/labels\", filename), \"r\") as file:\n",
        "            f = json.load(file)\n",
        "        for label in f:\n",
        "            if int(label['name'][-7:-4]) <= 30:\n",
        "                labels[label['name']] = label[\"labels\"]"
      ]
    },
    {
      "cell_type": "code",
      "execution_count": null,
      "id": "96c770e9",
      "metadata": {
        "id": "96c770e9"
      },
      "outputs": [],
      "source": [
        "with open(\"bdd100k/labels.pickle\", \"wb\") as file:\n",
        "    pickle.dump(labels, file)"
      ]
    },
    {
      "cell_type": "code",
      "execution_count": null,
      "id": "fc89f0bb",
      "metadata": {
        "id": "fc89f0bb"
      },
      "outputs": [],
      "source": [
        "with open(\"bdd100k/labels.pickle\", \"rb\") as file:\n",
        "    labels = pickle.load(file)"
      ]
    },
    {
      "cell_type": "code",
      "execution_count": null,
      "id": "ffeb3e96",
      "metadata": {
        "id": "ffeb3e96",
        "outputId": "9a282a28-cf3e-439f-86af-b96352a06beb"
      },
      "outputs": [
        {
          "name": "stdout",
          "output_type": "stream",
          "text": [
            "total number of bounding boxex: 30772\n"
          ]
        }
      ],
      "source": [
        "c = 0\n",
        "for k, v in labels.items():\n",
        "    c+=len(v)\n",
        "print(\"total number of bounding boxex:\", c)"
      ]
    },
    {
      "cell_type": "code",
      "execution_count": null,
      "id": "5e965a53",
      "metadata": {
        "id": "5e965a53"
      },
      "outputs": [],
      "source": [
        "# random 80-20 split\n",
        "random.shuffle(videofiles)\n",
        "len(videofiles)\n",
        "with open('./bdd100k/train.txt', 'w') as f:\n",
        "    f.write(\"\\n\".join(videofiles[0:80]))\n",
        "with open('./bdd100k/test.txt', 'w') as f:\n",
        "    f.write(\"\\n\".join(videofiles[80:100])) "
      ]
    },
    {
      "cell_type": "code",
      "execution_count": null,
      "id": "415e7655",
      "metadata": {
        "scrolled": true,
        "id": "415e7655",
        "outputId": "68539646-28b0-4bd3-a22e-5076a9b045ea"
      },
      "outputs": [
        {
          "data": {
            "text/plain": [
              "[{'id': '00036574',\n",
              "  'category': 'car',\n",
              "  'attributes': {'crowd': False, 'occluded': False, 'truncated': False},\n",
              "  'box2d': {'x1': 424.3389943247619,\n",
              "   'x2': 551.5095869180024,\n",
              "   'y1': 389.81502568422326,\n",
              "   'y2': 476.99898864763037}},\n",
              " {'id': '00036575',\n",
              "  'category': 'truck',\n",
              "  'attributes': {'crowd': False, 'occluded': False, 'truncated': False},\n",
              "  'box2d': {'x1': 640.649145019849,\n",
              "   'x2': 692.8929865619383,\n",
              "   'y1': 369.5589737260786,\n",
              "   'y2': 418.9940065831094}},\n",
              " {'id': '00036576',\n",
              "  'category': 'truck',\n",
              "  'attributes': {'crowd': False, 'occluded': True, 'truncated': False},\n",
              "  'box2d': {'x1': 656.9402353931887,\n",
              "   'x2': 694.5782717729735,\n",
              "   'y1': 362.2560711449263,\n",
              "   'y2': 401.5793927357463}},\n",
              " {'id': '00036577',\n",
              "  'category': 'car',\n",
              "  'attributes': {'crowd': False, 'occluded': False, 'truncated': False},\n",
              "  'box2d': {'x1': 600.520366174219,\n",
              "   'x2': 633.8165448927896,\n",
              "   'y1': 383.5006298835359,\n",
              "   'y2': 415.013084742183}},\n",
              " {'id': '00036578',\n",
              "  'category': 'truck',\n",
              "  'attributes': {'crowd': False, 'occluded': True, 'truncated': False},\n",
              "  'box2d': {'x1': 519.5301881379843,\n",
              "   'x2': 560.639291453201,\n",
              "   'y1': 376.5371754024877,\n",
              "   'y2': 411.53546606273983}},\n",
              " {'id': '00036579',\n",
              "  'category': 'car',\n",
              "  'attributes': {'crowd': False, 'occluded': True, 'truncated': False},\n",
              "  'box2d': {'x1': 567.3796929771996,\n",
              "   'x2': 593.3043527255346,\n",
              "   'y1': 392.57341904621427,\n",
              "   'y2': 411.62010784090927}}]"
            ]
          },
          "execution_count": 49,
          "metadata": {},
          "output_type": "execute_result"
        }
      ],
      "source": [
        "labels['0032419c-7d20b300-0000001.jpg']"
      ]
    },
    {
      "cell_type": "code",
      "execution_count": null,
      "id": "03c68ff0",
      "metadata": {
        "id": "03c68ff0",
        "outputId": "65cf9db7-0eec-4920-9291-f2cba753fb25"
      },
      "outputs": [
        {
          "data": {
            "text/plain": [
              "{'id': '00020715',\n",
              " 'category': 'car',\n",
              " 'attributes': {'occluded': False, 'truncated': False, 'crowd': False},\n",
              " 'box2d': {'x1': 123.8345864661654,\n",
              "  'x2': 236.16541353383457,\n",
              "  'y1': 338.3458646616541,\n",
              "  'y2': 396.5413533834586}}"
            ]
          },
          "execution_count": 32,
          "metadata": {},
          "output_type": "execute_result"
        }
      ],
      "source": [
        "labels['0000f77c-62c2a288-0000001.jpg'][0]"
      ]
    },
    {
      "cell_type": "code",
      "execution_count": null,
      "id": "28a6bc8c",
      "metadata": {
        "id": "28a6bc8c",
        "outputId": "f2bcc5fc-f965-4ebe-a5a7-82321fcbe547"
      },
      "outputs": [
        {
          "data": {
            "image/png": "[encoded data removed]",
            "text/plain": [
              "<Figure size 432x288 with 1 Axes>"
            ]
          },
          "metadata": {
            "needs_background": "light"
          },
          "output_type": "display_data"
        }
      ],
      "source": [
        "im = Image.open('bdd100k/images/0000f77c-62c2a288/0000f77c-62c2a288-0000001.jpg')\n",
        "\n",
        "# Create figure and axes\n",
        "fig, ax = plt.subplots()\n",
        "\n",
        "# Display the image\n",
        "ax.imshow(im)\n",
        "\n",
        "# Create a Rectangle patch\n",
        "bb = labels['0000f77c-62c2a288-0000001.jpg'][0]['box2d']\n",
        "x = bb['x1']\n",
        "y = bb['y1']\n",
        "width = bb['x2'] - bb['x1']\n",
        "height = bb['y2'] - bb['y1']\n",
        "rect = patches.Rectangle((bb['x1'], bb['y1']), width, height, linewidth=1, edgecolor='r', facecolor='none')\n",
        "\n",
        "# Add the patch to the Axes\n",
        "ax.add_patch(rect)\n",
        "\n",
        "plt.show()"
      ]
    },
    {
      "cell_type": "code",
      "execution_count": null,
      "id": "749173f2",
      "metadata": {
        "id": "749173f2",
        "outputId": "85e63c0a-ca42-4e5b-cfd3-47c24d299083"
      },
      "outputs": [
        {
          "data": {
            "text/plain": [
              "<matplotlib.image.AxesImage at 0x29539a63b70>"
            ]
          },
          "execution_count": 11,
          "metadata": {},
          "output_type": "execute_result"
        },
        {
          "data": {
            "image/png": "[encoded data removed]",
            "text/plain": [
              "<Figure size 432x288 with 1 Axes>"
            ]
          },
          "metadata": {
            "needs_background": "light"
          },
          "output_type": "display_data"
        }
      ],
      "source": [
        "# Create figure and axes\n",
        "fig, ax = plt.subplots()\n",
        "\n",
        "img = cv2.imread('bdd100k/images/0000f77c-62c2a288/0000f77c-62c2a288-0000001.jpg')\n",
        "cropped = img[round(bb['y1']):round(bb['y2']),round(bb['x1']):round(bb['x2']),:]\n",
        "# Display the image\n",
        "ax.imshow(Image.fromarray(cropped[:,:,::-1]))"
      ]
    },
    {
      "cell_type": "markdown",
      "id": "061e4ebc",
      "metadata": {
        "id": "061e4ebc"
      },
      "source": [
        "# dataloader and preprocess dataset"
      ]
    },
    {
      "cell_type": "code",
      "execution_count": null,
      "id": "50805219",
      "metadata": {
        "id": "50805219"
      },
      "outputs": [],
      "source": [
        "# Dataset for training relation network\n",
        "# returns (image_crop1, image_crop2, label) where label can be 0 for \"not same object\" or 1 for \"same object\"\n",
        "\n",
        "class TrackingData(data.Dataset):\n",
        "\n",
        "    def __init__(self, transform=None, partition=\"train\"):\n",
        "        with open(\"bdd100k/labels.pickle\", \"rb\") as file:\n",
        "            self.labels = pickle.load(file)\n",
        "        with open('bdd100k/'+partition+'.txt', 'r') as f:\n",
        "            self.filenames = f.read().split(\"\\n\")\n",
        "        self.transform = transform\n",
        "        self.data = []\n",
        "        self.data_attributes = []\n",
        "        for i, name in enumerate(self.filenames):\n",
        "            print(\"loading\",i, name)\n",
        "            self.load_video(name)\n",
        "            \n",
        "    \n",
        "    # load all bounding boxes for a video\n",
        "    # for each video, we prepare data of the form (image1, image2, label) such that\n",
        "    # label = 1 means that the two images are same object obtained in two consecutive frames\n",
        "    # label = 0 means that the two images are different objects obtained in two consecutive frames\n",
        "    # If there are k objects each frame and t frames,\n",
        "    # we will have k*(t-1) positive examples and k*(k-1)*(t-1) negative examples\n",
        "    def load_video(self, filename):\n",
        "        objects_in_last_frame = []\n",
        "        for imagename in os.listdir(\"bdd100k/images/\"+filename):\n",
        "            objects_in_new_frame = []\n",
        "            image = cv2.imread(\"bdd100k/images/\"+filename+\"/\"+imagename)\n",
        "            labels = self.labels[imagename]\n",
        "            \n",
        "            # get objects\n",
        "            for label in labels:\n",
        "                bb = label['box2d']\n",
        "                crop_image = Image.fromarray(image[round(bb['y1']):round(bb['y2']),round(bb['x1']):round(bb['x2']),:][:,:,::-1])\n",
        "                id_label = int(label['id'])\n",
        "                objects_in_new_frame.append((id_label, crop_image, label))\n",
        "                \n",
        "            # generate positive and negative examples\n",
        "            for object_new in objects_in_new_frame:\n",
        "                for object_last in objects_in_last_frame:\n",
        "                    label = 1 if object_new[0]==object_last[0] else 0\n",
        "                    self.data.append((object_new[1], object_last[1], label))\n",
        "                    self.data_attributes.append((object_new[2], object_last[2], [label]))\n",
        "                    \n",
        "            # update objects_in_last_frame\n",
        "            objects_in_last_frame = objects_in_new_frame\n",
        "        return None\n",
        "\n",
        "    \n",
        "    \n",
        "    def __len__(self):\n",
        "        return len(self.data)\n",
        "\n",
        "    \n",
        "    # return (image1, image2, label)\n",
        "    def __getitem__(self, index):\n",
        "        if self.transform is not None:\n",
        "            (image1, image2, label) = self.data[index]\n",
        "            return self.transform(image1), self.transform(image2), label\n",
        "        else:\n",
        "            return self.data[index]\n",
        "        \n",
        "    def add_transform(self, transform):\n",
        "        self.transform = transform"
      ]
    },
    {
      "cell_type": "code",
      "execution_count": null,
      "id": "9472905b",
      "metadata": {
        "scrolled": true,
        "id": "9472905b"
      },
      "outputs": [],
      "source": [
        "tfms = transforms.Compose([transforms.ToTensor(),\n",
        "    transforms.Normalize([0.485, 0.456, 0.406], [0.229, 0.224, 0.225]),transforms.Resize((224,224))])\n",
        "dataset = TrackingData(transform=tfms, partition=\"train\")"
      ]
    },
    {
      "cell_type": "code",
      "execution_count": null,
      "id": "07e75323",
      "metadata": {
        "id": "07e75323",
        "outputId": "af6c3766-4286-4485-8cf1-e9a29012059c"
      },
      "outputs": [
        {
          "data": {
            "text/plain": [
              "335948"
            ]
          },
          "execution_count": 6,
          "metadata": {},
          "output_type": "execute_result"
        }
      ],
      "source": [
        "len(dataset)"
      ]
    },
    {
      "cell_type": "code",
      "execution_count": null,
      "id": "99812f56",
      "metadata": {
        "scrolled": true,
        "id": "99812f56",
        "outputId": "99dd6858-bdf2-48a7-d83a-0278b9f2fb93"
      },
      "outputs": [
        {
          "name": "stdout",
          "output_type": "stream",
          "text": [
            "1\n",
            "0\n"
          ]
        },
        {
          "data": {
            "image/png": "[encoded data removed]",
            "text/plain": [
              "<Figure size 432x288 with 1 Axes>"
            ]
          },
          "metadata": {
            "needs_background": "light"
          },
          "output_type": "display_data"
        },
        {
          "data": {
            "image/png": "[encoded data removed]",
            "text/plain": [
              "<Figure size 432x288 with 1 Axes>"
            ]
          },
          "metadata": {
            "needs_background": "light"
          },
          "output_type": "display_data"
        },
        {
          "data": {
            "image/png": "[encoded data removed]",
            "text/plain": [
              "<Figure size 432x288 with 1 Axes>"
            ]
          },
          "metadata": {
            "needs_background": "light"
          },
          "output_type": "display_data"
        },
        {
          "data": {
            "image/png": "[encoded data removed]",
            "text/plain": [
              "<Figure size 432x288 with 1 Axes>"
            ]
          },
          "metadata": {
            "needs_background": "light"
          },
          "output_type": "display_data"
        }
      ],
      "source": [
        "# print first 15 data to make sure everything is okay.\n",
        "dataset.add_transform(None)\n",
        "for i in range(2):\n",
        "    img1, img2, label = dataset[i]\n",
        "    fig, ax = plt.subplots()\n",
        "    ax.imshow(img1)\n",
        "    fig, ax = plt.subplots()\n",
        "    ax.imshow(img2)\n",
        "    print(label)"
      ]
    },
    {
      "cell_type": "markdown",
      "id": "c0a0f4eb",
      "metadata": {
        "id": "c0a0f4eb"
      },
      "source": [
        "# Visual Appereance Model"
      ]
    },
    {
      "cell_type": "code",
      "execution_count": null,
      "id": "dc637529",
      "metadata": {
        "id": "dc637529"
      },
      "outputs": [],
      "source": [
        "# Model definition\n",
        "\n",
        "# feature size: 1280, 7, 7 \n",
        "# concate -> 2560, 7, 7\n",
        "# 3*3 conv, batch norm, relu, Dropout -> 2560, 5, 5\n",
        "# AvgPool2d(2) -> 2560, 2, 2\n",
        "# 2*2 conv, batch norm, relu, Dropout -> 5120, 1, 1\n",
        "# FC batch norm ReLU, Dropout -> 256\n",
        "# FC sigmoid -> 1 score\n",
        "\n",
        "class convRelationNN(nn.Module):\n",
        "    def __init__(self):\n",
        "        super(convRelationNN, self).__init__()\n",
        "        # relation network\n",
        "        self.layer1 = torch.nn.Sequential(\n",
        "            nn.Conv2d(2560, 2560, kernel_size=3),\n",
        "            nn.BatchNorm2d(2560),\n",
        "            nn.ReLU(),\n",
        "            nn.Dropout(p=0.25))\n",
        "        self.pool1 = nn.AvgPool2d(2)\n",
        "        self.layer2 = torch.nn.Sequential(\n",
        "            nn.Conv2d(2560, 5120, kernel_size=2),\n",
        "            nn.BatchNorm2d(5120),\n",
        "            nn.ReLU(),\n",
        "            nn.Dropout(p=0.25))\n",
        "        self.layer3 = torch.nn.Sequential(\n",
        "            nn.Linear(5120, 256),\n",
        "            nn.BatchNorm1d(256),\n",
        "            nn.ReLU(),\n",
        "            nn.Dropout(p=0.25))\n",
        "        self.layer4 = torch.nn.Sequential(\n",
        "            nn.Linear(256, 1),\n",
        "            nn.Sigmoid())\n",
        "        \n",
        "    def forward(self, input):\n",
        "        x = self.layer1(input)\n",
        "        x = self.pool1(x)\n",
        "        x = self.layer2(x)\n",
        "        x = torch.flatten(x, 1)\n",
        "        x = self.layer3(x)\n",
        "        x = self.layer4(x)      \n",
        "\n",
        "        return x\n",
        "    \n",
        "class fcRelationNN(nn.Module):\n",
        "    def __init__(self):\n",
        "        super(fcRelationNN, self).__init__()\n",
        "        # relation network\n",
        "        self.pool1 = nn.AdaptiveAvgPool2d(1)\n",
        "        self.layer1 = torch.nn.Sequential(\n",
        "            nn.Linear(2560, 1024),\n",
        "            nn.BatchNorm1d(1024),\n",
        "            nn.ReLU(),\n",
        "            nn.Dropout(p=0.25))\n",
        "        self.layer2 = torch.nn.Sequential(\n",
        "            nn.Linear(1024, 1),\n",
        "            nn.Sigmoid())\n",
        "        \n",
        "    def forward(self, input):\n",
        "        x = self.pool1(input)\n",
        "        x = torch.flatten(x, 1)\n",
        "        x = self.layer1(x)\n",
        "        x = self.layer2(x)      \n",
        "        return x\n",
        "\n",
        "class AppearanceNN(nn.Module):\n",
        "    def __init__(self, conv=False):\n",
        "        super(AppearanceNN, self).__init__()\n",
        "        # we use pre-trained efficientnet_b0 for feature extraction\n",
        "        self.featureNN = models.efficientnet_b0(pretrained=True)\n",
        "        self.bn = nn.BatchNorm2d(2560)\n",
        "        \n",
        "        # relation network\n",
        "        self.relationNN = convRelationNN() if conv else fcRelationNN()\n",
        "        \n",
        "    def forward(self, input):\n",
        "        x = self.featureNN.features(input[0])\n",
        "        y = self.featureNN.features(input[1])\n",
        "        x = torch.cat((x,y), dim=1)\n",
        "        x = self.bn(x)\n",
        "        x = self.relationNN(x)    \n",
        "\n",
        "        return x"
      ]
    },
    {
      "cell_type": "code",
      "execution_count": null,
      "id": "8c677b2c",
      "metadata": {
        "id": "8c677b2c"
      },
      "outputs": [],
      "source": [
        ""
      ]
    },
    {
      "cell_type": "code",
      "execution_count": null,
      "id": "59d66923",
      "metadata": {
        "scrolled": true,
        "id": "59d66923"
      },
      "outputs": [],
      "source": [
        "model = AppearanceNN()\n",
        "# model((dataset[0][0].unsqueeze(0), dataset[0][1].unsqueeze(0)))"
      ]
    },
    {
      "cell_type": "code",
      "execution_count": null,
      "id": "e249cd26",
      "metadata": {
        "id": "e249cd26",
        "outputId": "1cb48e01-e2fd-49ae-ec2c-da6c39f39e1f"
      },
      "outputs": [
        {
          "name": "stdout",
          "output_type": "stream",
          "text": [
            "torch.Size([8, 3, 224, 224]) torch.Size([8])\n"
          ]
        }
      ],
      "source": [
        "dataset.add_transform(tfms)\n",
        "loader_train = torch.utils.data.DataLoader(dataset, batch_size=8,\n",
        "                                          shuffle=True)\n",
        "for i, data in enumerate(loader_train):\n",
        "    result = model(data)\n",
        "    print(data[0].shape, data[2].shape)\n",
        "    break"
      ]
    },
    {
      "cell_type": "code",
      "execution_count": null,
      "id": "6ba696d1",
      "metadata": {
        "id": "6ba696d1",
        "outputId": "44a2f068-c285-4f92-bea8-70378004f836"
      },
      "outputs": [
        {
          "data": {
            "text/plain": [
              "tensor([[0.4488],\n",
              "        [0.3810],\n",
              "        [0.5169],\n",
              "        [0.5294],\n",
              "        [0.4583],\n",
              "        [0.3166],\n",
              "        [0.4936],\n",
              "        [0.3680]], grad_fn=<SigmoidBackward0>)"
            ]
          },
          "execution_count": 20,
          "metadata": {},
          "output_type": "execute_result"
        }
      ],
      "source": [
        "result"
      ]
    },
    {
      "cell_type": "code",
      "execution_count": null,
      "id": "ec16d8b0",
      "metadata": {
        "id": "ec16d8b0"
      },
      "outputs": [],
      "source": [
        ""
      ]
    },
    {
      "cell_type": "code",
      "execution_count": null,
      "id": "2abcb9d5",
      "metadata": {
        "id": "2abcb9d5"
      },
      "outputs": [],
      "source": [
        ""
      ]
    },
    {
      "cell_type": "code",
      "execution_count": null,
      "id": "98b3f3eb",
      "metadata": {
        "id": "98b3f3eb"
      },
      "outputs": [],
      "source": [
        "# Optimizer \n",
        "class Solver(object):\n",
        "    def __init__(self, model, dataloader, dataloader_test=None, lr=0.01, momentum=0.9, num_epoches=2, device=\"cpu\", \n",
        "                 print_freq=10, fix_feature_model=True):\n",
        "        self.model = model\n",
        "        self.dataloader = dataloader\n",
        "        if dataloader_test == None:\n",
        "            self.criterion = nn.BCELoss()\n",
        "            if fix_feature_model:\n",
        "                self.optimizer = torch.optim.SGD(model.relationNN.parameters(), lr=lr, momentum=momentum)\n",
        "            else:\n",
        "                self.optimizer = torch.optim.SGD(model.parameters(), lr=lr, momentum=momentum)\n",
        "            self.fix_feature_model = fix_feature_model\n",
        "            self.num_epoches = num_epoches\n",
        "        self.dataloader_test = dataloader_test\n",
        "        self.print_freq = print_freq\n",
        "        \n",
        "    def train(self):\n",
        "        if self.fix_feature_model:\n",
        "            self.model.relationNN.train()\n",
        "            self.model.featureNN.eval()\n",
        "        else:\n",
        "            self.model.train()\n",
        "        self.training_loss=[]\n",
        "        self.training_accuracy=[]\n",
        "        \n",
        "        for t in range(self.num_epoches):\n",
        "            epoch_loss = []\n",
        "            epoch_accuracy = []\n",
        "            for i, data in enumerate(self.dataloader):\n",
        "                # get the inputs; data is (image1, image2, label)\n",
        "                data = [d.to(device) for d in data]\n",
        "                labels = data[2].reshape((-1,1))\n",
        "                \n",
        "                # zero the parameter gradients\n",
        "                self.optimizer.zero_grad()\n",
        "\n",
        "                # forward + backward + optimize\n",
        "                outputs = self.model(data)\n",
        "                loss = self.criterion(outputs, labels.float())\n",
        "                loss.backward()\n",
        "                self.optimizer.step()\n",
        "                \n",
        "                # stats\n",
        "                epoch_loss.append(loss.item())\n",
        "                acc = self.get_accuracy(outputs, labels)\n",
        "                epoch_accuracy.append(acc)\n",
        "                \n",
        "                if i %  self.print_freq == 0:\n",
        "                    print(\"epoch\", t, \"batch\", i, \"loss\", sum(epoch_loss[-self.print_freq:])/self.print_freq, \n",
        "                          \"accuracy\", sum(epoch_accuracy[-self.print_freq:])/self.print_freq)\n",
        "                \n",
        "            self.training_loss.append(epoch_loss)\n",
        "            self.training_accuracy.append(epoch_accuracy)\n",
        "        \n",
        "        return self.model, self.training_loss,  self.training_accuracy\n",
        "    \n",
        "    def get_accuracy(self, outputs, labels):  \n",
        "        correct_count = ((outputs>0.5).int() == labels).sum()\n",
        "        return torch.round(correct_count / len(labels) * 100).item()\n",
        "    \n",
        "    def evaluate(self):\n",
        "        self.model.eval()\n",
        "        test_accuracy = []\n",
        "        with torch.no_grad():\n",
        "            for i, data in enumerate(self.dataloader_test):\n",
        "                # get the inputs; data is a list of [inputs, labels]\n",
        "                data = [d.to(device) for d in data]\n",
        "                labels = data[2].reshape((-1,1))\n",
        "\n",
        "                # get accuracy\n",
        "                outputs = self.model(data)\n",
        "                acc = self.get_accuracy(outputs, labels)\n",
        "                test_accuracy.append(acc)\n",
        "\n",
        "                if i % self.print_freq == 0:\n",
        "                    print(\"batch\", i, \"accuracy\", sum(test_accuracy[-self.print_freq:])/self.print_freq)\n",
        "\n",
        "        test_accuracy = sum(test_accuracy)/len(test_accuracy)\n",
        "        return   test_accuracy"
      ]
    },
    {
      "cell_type": "markdown",
      "id": "d5c6b62c",
      "metadata": {
        "id": "d5c6b62c"
      },
      "source": [
        "# train: binary classification"
      ]
    },
    {
      "cell_type": "code",
      "execution_count": null,
      "id": "c429f38a",
      "metadata": {
        "scrolled": true,
        "id": "c429f38a",
        "outputId": "c0b5c939-e71c-4e02-c0d2-6824057192e1"
      },
      "outputs": [
        {
          "name": "stdout",
          "output_type": "stream",
          "text": [
            "cuda\n",
            "loading 0 00378858-c5f802ac\n",
            "loading 1 0028cbbf-92f30408\n",
            "loading 2 002b485a-3f6603f2\n",
            "loading 3 0051e391-d32a618e\n",
            "loading 4 00131ea7-624f538d\n",
            "loading 5 002685b6-856c17f7\n",
            "loading 6 006bff20-752bd845\n",
            "loading 7 0070bc56-4c0bb2d5\n",
            "loading 8 004ea016-0b1932a7\n",
            "loading 9 0075a5b0-9a8d5dbb\n",
            "loading 10 0049e5b8-afda7206\n",
            "loading 11 002d290d-89f4e5c0\n",
            "loading 12 0070bc56-8d8cfd82\n",
            "loading 13 007aeb45-eef41701\n",
            "loading 14 0081c36b-30bff234\n",
            "loading 15 007da0eb-8cca23d7\n",
            "loading 16 0034a363-24f318c4\n",
            "loading 17 00207869-902288d1\n",
            "loading 18 0048f391-e9bfaf62\n",
            "loading 19 002d290d-f9108a13\n",
            "loading 20 002d290d-90f2bab2\n",
            "loading 21 0062f18d-f8cd3a65\n",
            "loading 22 001c5339-13a07470\n",
            "loading 23 0075b179-8e09869a\n",
            "loading 24 004071a4-ef4bf541\n",
            "loading 25 0000f77c-62c2a288\n",
            "loading 26 006fdb67-a1455b77\n",
            "loading 27 007aeb45-9330e852\n",
            "loading 28 002cd38e-ebe888e1\n",
            "loading 29 007ae77f-79995643\n",
            "loading 30 005c4fd3-cb4d6287\n",
            "loading 31 0070bc56-29bcc943\n",
            "loading 32 0030f434-3eb4a3a9\n",
            "loading 33 0000f77c-cb820c98\n",
            "loading 34 007aeb45-c601742b\n",
            "loading 35 0045e757-088840fc\n",
            "loading 36 0062298d-e6abad2f\n",
            "loading 37 004071a4-4e8a363a\n",
            "loading 38 007b11e5-1033ff33\n",
            "loading 39 007aeb45-3e75ce0e\n",
            "loading 40 0071d9c5-be7394cc\n",
            "loading 41 00417c23-220bbc98\n",
            "loading 42 002b485a-d1301c7c\n",
            "loading 43 0070bc56-401304be\n",
            "loading 44 002827ad-8748e2fb\n",
            "loading 45 006382a3-4a442001\n",
            "loading 46 00054602-3bf57337\n",
            "loading 47 003baca5-ad660439\n",
            "loading 48 001c5339-9a6cdd3e\n",
            "loading 49 0045e757-02530231\n",
            "loading 50 006a4209-4f3bf6cf\n",
            "loading 51 007693e6-2535e7bf\n",
            "loading 52 0024b742-83709bd4\n",
            "loading 53 007c01ea-63aa326c\n",
            "loading 54 003e23ee-67d25f19\n",
            "loading 55 00618cec-ef92ac05\n",
            "loading 56 00268999-cb063914\n",
            "loading 57 000f8d37-d4c09a0f\n",
            "loading 58 00787a90-b350f376\n",
            "loading 59 00134776-9123d227\n",
            "loading 60 007c01ea-a02f29ef\n",
            "loading 61 0062ab5a-54bb129b\n",
            "loading 62 002d290d-01969e7d\n",
            "loading 63 00423ac5-1fa7ff43\n",
            "loading 64 00495359-27ce9c7e\n",
            "loading 65 0066b72f-974f6883\n",
            "loading 66 00268999-0b20ef00\n",
            "loading 67 00211b17-ad3e206b\n",
            "loading 68 00067cfb-5443fe39\n",
            "loading 69 005ee183-0100ac18\n",
            "loading 70 00207869-046fa443\n",
            "loading 71 005ee183-bcfab89f\n",
            "loading 72 00322f82-286ab9b3\n",
            "loading 73 0080b637-55f7930e\n",
            "loading 74 006a7635-c42f9f97\n",
            "loading 75 000e0252-8523a4a9\n",
            "loading 76 0035afff-bd191d6a\n",
            "loading 77 0062298d-fd69d0ec\n",
            "loading 78 0032419c-7d20b300\n"
          ]
        }
      ],
      "source": [
        "device = \"cuda\" if torch.cuda.is_available() else \"cpu\"\n",
        "print(device)\n",
        "\n",
        "# normalize for the pre-trained model\n",
        "tfms = transforms.Compose([transforms.ToTensor(),\n",
        "    transforms.Normalize([0.485, 0.456, 0.406], [0.229, 0.224, 0.225]),transforms.Resize((224,224))])\n",
        "\n",
        "# load the data                 \n",
        "dataset_train = TrackingData(partition=\"train\", transform=tfms)\n",
        "# dataset_test = TrackingData(partition=\"test\", transform=tfms)\n",
        "\n",
        "# data loader\n",
        "loader_train = torch.utils.data.DataLoader(dataset_train, batch_size=16,\n",
        "                                          shuffle=True)\n",
        "# loader_test = torch.utils.data.DataLoader(dataset_test, batch_size=1,\n",
        "#                                           shuffle=False)\n"
      ]
    },
    {
      "cell_type": "code",
      "execution_count": null,
      "id": "7efefcab",
      "metadata": {
        "scrolled": true,
        "id": "7efefcab",
        "outputId": "302f7c99-f302-4b90-a5e6-c66e425b0747"
      },
      "outputs": [
        {
          "name": "stdout",
          "output_type": "stream",
          "text": [
            "epoch 0 batch 0 loss 0.009253189563751221 accuracy 0.06\n",
            "epoch 0 batch 100 loss 0.3335137475002557 accuracy 91.38\n",
            "epoch 0 batch 200 loss 0.24925940174609423 accuracy 92.68\n",
            "epoch 0 batch 300 loss 0.23421923760324717 accuracy 92.93\n",
            "epoch 0 batch 400 loss 0.2081123948097229 accuracy 93.29\n",
            "epoch 0 batch 500 loss 0.20211333142593502 accuracy 93.82\n",
            "epoch 0 batch 600 loss 0.18154259890317917 accuracy 94.98\n",
            "epoch 0 batch 700 loss 0.20698679208755494 accuracy 93.33\n",
            "epoch 0 batch 800 loss 0.19267294442281127 accuracy 93.18\n",
            "epoch 0 batch 900 loss 0.1904148550890386 accuracy 93.88\n",
            "epoch 0 batch 1000 loss 0.2082230734080076 accuracy 91.89\n",
            "epoch 0 batch 1100 loss 0.17785169085487723 accuracy 93.87\n",
            "epoch 0 batch 1200 loss 0.17452372495085 accuracy 93.88\n",
            "epoch 0 batch 1300 loss 0.19748089250177145 accuracy 92.85\n",
            "epoch 0 batch 1400 loss 0.15638085778802632 accuracy 94.44\n",
            "epoch 0 batch 1500 loss 0.16413299445062876 accuracy 94.09\n",
            "epoch 0 batch 1600 loss 0.173911857791245 accuracy 93.53\n",
            "epoch 0 batch 1700 loss 0.1549014993943274 accuracy 94.74\n",
            "epoch 0 batch 1800 loss 0.15215951811522246 accuracy 94.04\n",
            "epoch 0 batch 1900 loss 0.20200377458706498 accuracy 93.39\n",
            "epoch 0 batch 2000 loss 0.15027186824008823 accuracy 94.49\n",
            "epoch 0 batch 2100 loss 0.14615469437092543 accuracy 94.46\n",
            "epoch 0 batch 2200 loss 0.15469804173335433 accuracy 94.06\n",
            "epoch 0 batch 2300 loss 0.17838707914575935 accuracy 93.44\n",
            "epoch 0 batch 2400 loss 0.1394297531992197 accuracy 94.49\n",
            "epoch 0 batch 2500 loss 0.1600206959247589 accuracy 94.04\n",
            "epoch 0 batch 2600 loss 0.14378990650177 accuracy 94.12\n",
            "epoch 0 batch 2700 loss 0.13988659406080842 accuracy 94.81\n",
            "epoch 0 batch 2800 loss 0.15234894575551153 accuracy 94.34\n",
            "epoch 0 batch 2900 loss 0.13685183538123966 accuracy 94.8\n",
            "epoch 0 batch 3000 loss 0.122488170908764 accuracy 95.65\n",
            "epoch 0 batch 3100 loss 0.1527592246234417 accuracy 93.66\n",
            "epoch 0 batch 3200 loss 0.1292353929951787 accuracy 95.28\n",
            "epoch 0 batch 3300 loss 0.11885957261547446 accuracy 95.53\n",
            "epoch 0 batch 3400 loss 0.11598265424370766 accuracy 96.0\n",
            "epoch 0 batch 3500 loss 0.12523080047219992 accuracy 95.16\n",
            "epoch 0 batch 3600 loss 0.12688668310642243 accuracy 95.4\n",
            "epoch 0 batch 3700 loss 0.1132633915822953 accuracy 96.44\n",
            "epoch 0 batch 3800 loss 0.10993322096765042 accuracy 95.58\n",
            "epoch 0 batch 3900 loss 0.10412136118859053 accuracy 96.49\n",
            "epoch 0 batch 4000 loss 0.11928633071482181 accuracy 95.85\n",
            "epoch 0 batch 4100 loss 0.10341520786751061 accuracy 96.09\n",
            "epoch 0 batch 4200 loss 0.09893381683621555 accuracy 96.27\n",
            "epoch 0 batch 4300 loss 0.10733152675442398 accuracy 96.26\n",
            "epoch 0 batch 4400 loss 0.11498923482373356 accuracy 96.17\n",
            "epoch 0 batch 4500 loss 0.1098524589277804 accuracy 96.17\n",
            "epoch 0 batch 4600 loss 0.11086514436174184 accuracy 95.95\n",
            "epoch 0 batch 4700 loss 0.09716095408424735 accuracy 96.81\n",
            "epoch 0 batch 4800 loss 0.10747864552773535 accuracy 95.89\n",
            "epoch 0 batch 4900 loss 0.09913537799846381 accuracy 96.2\n",
            "epoch 0 batch 5000 loss 0.10391748629044742 accuracy 96.15\n",
            "epoch 0 batch 5100 loss 0.10491721740923822 accuracy 96.73\n",
            "epoch 0 batch 5200 loss 0.1032251128461212 accuracy 96.58\n"
          ]
        },
        {
          "ename": "KeyboardInterrupt",
          "evalue": "",
          "output_type": "error",
          "traceback": [
            "\u001b[1;31m---------------------------------------------------------------------------\u001b[0m",
            "\u001b[1;31mKeyboardInterrupt\u001b[0m                         Traceback (most recent call last)",
            "\u001b[1;32m<ipython-input-6-7c88cd1a09b7>\u001b[0m in \u001b[0;36m<module>\u001b[1;34m\u001b[0m\n\u001b[0;32m      6\u001b[0m \u001b[1;31m# train the model\u001b[0m\u001b[1;33m\u001b[0m\u001b[1;33m\u001b[0m\u001b[1;33m\u001b[0m\u001b[0m\n\u001b[0;32m      7\u001b[0m \u001b[0msolver\u001b[0m \u001b[1;33m=\u001b[0m \u001b[0mSolver\u001b[0m\u001b[1;33m(\u001b[0m\u001b[0mmodel\u001b[0m\u001b[1;33m,\u001b[0m \u001b[0mloader_train\u001b[0m\u001b[1;33m,\u001b[0m \u001b[0mnum_epoches\u001b[0m\u001b[1;33m=\u001b[0m\u001b[0mnum_epoches\u001b[0m\u001b[1;33m,\u001b[0m \u001b[0mdevice\u001b[0m\u001b[1;33m=\u001b[0m\u001b[0mdevice\u001b[0m\u001b[1;33m,\u001b[0m \u001b[0mprint_freq\u001b[0m\u001b[1;33m=\u001b[0m\u001b[1;36m100\u001b[0m\u001b[1;33m)\u001b[0m\u001b[1;33m\u001b[0m\u001b[1;33m\u001b[0m\u001b[0m\n\u001b[1;32m----> 8\u001b[1;33m \u001b[0mmodel\u001b[0m\u001b[1;33m,\u001b[0m \u001b[0mloss_training\u001b[0m\u001b[1;33m,\u001b[0m \u001b[0mtraining_accuracy\u001b[0m \u001b[1;33m=\u001b[0m \u001b[0msolver\u001b[0m\u001b[1;33m.\u001b[0m\u001b[0mtrain\u001b[0m\u001b[1;33m(\u001b[0m\u001b[1;33m)\u001b[0m\u001b[1;33m\u001b[0m\u001b[1;33m\u001b[0m\u001b[0m\n\u001b[0m",
            "\u001b[1;32m<ipython-input-5-95ed00f696b2>\u001b[0m in \u001b[0;36mtrain\u001b[1;34m(self)\u001b[0m\n\u001b[0;32m     35\u001b[0m \u001b[1;33m\u001b[0m\u001b[0m\n\u001b[0;32m     36\u001b[0m                 \u001b[1;31m# stats\u001b[0m\u001b[1;33m\u001b[0m\u001b[1;33m\u001b[0m\u001b[1;33m\u001b[0m\u001b[0m\n\u001b[1;32m---> 37\u001b[1;33m                 \u001b[0mepoch_loss\u001b[0m\u001b[1;33m.\u001b[0m\u001b[0mappend\u001b[0m\u001b[1;33m(\u001b[0m\u001b[0mloss\u001b[0m\u001b[1;33m.\u001b[0m\u001b[0mitem\u001b[0m\u001b[1;33m(\u001b[0m\u001b[1;33m)\u001b[0m\u001b[1;33m)\u001b[0m\u001b[1;33m\u001b[0m\u001b[1;33m\u001b[0m\u001b[0m\n\u001b[0m\u001b[0;32m     38\u001b[0m                 \u001b[0macc\u001b[0m \u001b[1;33m=\u001b[0m \u001b[0mself\u001b[0m\u001b[1;33m.\u001b[0m\u001b[0mget_accuracy\u001b[0m\u001b[1;33m(\u001b[0m\u001b[0moutputs\u001b[0m\u001b[1;33m,\u001b[0m \u001b[0mlabels\u001b[0m\u001b[1;33m)\u001b[0m\u001b[1;33m\u001b[0m\u001b[1;33m\u001b[0m\u001b[0m\n\u001b[0;32m     39\u001b[0m                 \u001b[0mepoch_accuracy\u001b[0m\u001b[1;33m.\u001b[0m\u001b[0mappend\u001b[0m\u001b[1;33m(\u001b[0m\u001b[0macc\u001b[0m\u001b[1;33m)\u001b[0m\u001b[1;33m\u001b[0m\u001b[1;33m\u001b[0m\u001b[0m\n",
            "\u001b[1;31mKeyboardInterrupt\u001b[0m: "
          ]
        }
      ],
      "source": [
        "# convRelationNN\n",
        "# train relationNN only. fix featureNN\n",
        "\n",
        "num_epoches = 1\n",
        "\n",
        "# model\n",
        "model = AppearanceNN(conv=True).to(device)\n",
        "\n",
        "# train the model\n",
        "solver = Solver(model, loader_train, num_epoches=num_epoches, device=device, print_freq=100, fix_feature_model=True)\n",
        "model, loss_training, training_accuracy = solver.train()"
      ]
    },
    {
      "cell_type": "code",
      "execution_count": null,
      "id": "4411c14d",
      "metadata": {
        "scrolled": true,
        "id": "4411c14d",
        "outputId": "8d72156b-5fbe-468b-9ccc-79e774690e07"
      },
      "outputs": [
        {
          "name": "stdout",
          "output_type": "stream",
          "text": [
            "epoch 0 batch 0 loss 0.006159987449645996 accuracy 0.75\n",
            "epoch 0 batch 100 loss 0.3083283233270049 accuracy 93.05\n",
            "epoch 0 batch 200 loss 0.25105656396597625 accuracy 92.93\n",
            "epoch 0 batch 300 loss 0.22295911759138107 accuracy 93.17\n",
            "epoch 0 batch 400 loss 0.22825583528727292 accuracy 93.57\n",
            "epoch 0 batch 500 loss 0.22504189845174552 accuracy 93.79\n",
            "epoch 0 batch 600 loss 0.21949371751397848 accuracy 93.08\n",
            "epoch 0 batch 700 loss 0.20823242776095868 accuracy 93.5\n",
            "epoch 0 batch 800 loss 0.19555529102683067 accuracy 93.96\n",
            "epoch 0 batch 900 loss 0.17765896294265984 accuracy 94.37\n",
            "epoch 0 batch 1000 loss 0.1694793587550521 accuracy 94.09\n",
            "epoch 0 batch 1100 loss 0.1890670822560787 accuracy 93.67\n",
            "epoch 0 batch 1200 loss 0.19673572355881333 accuracy 93.5\n",
            "epoch 0 batch 1300 loss 0.16698604755103588 accuracy 93.7\n",
            "epoch 0 batch 1400 loss 0.21098373707383872 accuracy 93.13\n",
            "epoch 0 batch 1500 loss 0.17465000577270984 accuracy 93.59\n",
            "epoch 0 batch 1600 loss 0.18179976299405098 accuracy 93.35\n",
            "epoch 0 batch 1700 loss 0.18250596910715103 accuracy 93.09\n",
            "epoch 0 batch 1800 loss 0.15041292952373625 accuracy 94.85\n",
            "epoch 0 batch 1900 loss 0.16960195619612933 accuracy 93.68\n",
            "epoch 0 batch 2000 loss 0.1498872522637248 accuracy 94.86\n",
            "epoch 0 batch 2100 loss 0.13383158180862664 accuracy 95.65\n",
            "epoch 0 batch 2200 loss 0.13795517305843533 accuracy 95.21\n",
            "epoch 0 batch 2300 loss 0.15289618516340853 accuracy 95.48\n",
            "epoch 0 batch 2400 loss 0.1254794175736606 accuracy 95.73\n",
            "epoch 0 batch 2500 loss 0.13687597621232273 accuracy 96.14\n",
            "epoch 0 batch 2600 loss 0.1178601060807705 accuracy 96.44\n",
            "epoch 0 batch 2700 loss 0.11898944179527461 accuracy 96.09\n",
            "epoch 0 batch 2800 loss 0.11608043256215751 accuracy 95.84\n",
            "epoch 0 batch 2900 loss 0.1165462289378047 accuracy 95.92\n",
            "epoch 0 batch 3000 loss 0.12089140464551747 accuracy 95.71\n",
            "epoch 0 batch 3100 loss 0.08786833737976849 accuracy 97.24\n",
            "epoch 0 batch 3200 loss 0.10730948431417346 accuracy 96.43\n",
            "epoch 0 batch 3300 loss 0.09185971354600042 accuracy 97.12\n",
            "epoch 0 batch 3400 loss 0.0985759101388976 accuracy 96.57\n",
            "epoch 0 batch 3500 loss 0.1203550059068948 accuracy 96.09\n",
            "epoch 0 batch 3600 loss 0.0955104648694396 accuracy 96.81\n",
            "epoch 0 batch 3700 loss 0.09909208695404231 accuracy 96.33\n",
            "epoch 0 batch 3800 loss 0.12222047288902103 accuracy 95.57\n",
            "epoch 0 batch 3900 loss 0.10054191951174289 accuracy 96.93\n",
            "epoch 0 batch 4000 loss 0.09921391214244067 accuracy 97.24\n",
            "epoch 0 batch 4100 loss 0.11521617983467877 accuracy 95.91\n",
            "epoch 0 batch 4200 loss 0.1012508731521666 accuracy 96.57\n",
            "epoch 0 batch 4300 loss 0.09600707482546568 accuracy 96.86\n",
            "epoch 0 batch 4400 loss 0.10065837310627103 accuracy 96.88\n",
            "epoch 0 batch 4500 loss 0.09670989803038538 accuracy 97.04\n",
            "epoch 0 batch 4600 loss 0.09927529951557518 accuracy 96.88\n",
            "epoch 0 batch 4700 loss 0.0974165983311832 accuracy 96.58\n",
            "epoch 0 batch 4800 loss 0.117191402297467 accuracy 96.52\n",
            "epoch 0 batch 4900 loss 0.11713451785966754 accuracy 96.66\n",
            "epoch 0 batch 5000 loss 0.07874808759661392 accuracy 97.29\n",
            "epoch 0 batch 5100 loss 0.11630393575876952 accuracy 96.5\n",
            "epoch 0 batch 5200 loss 0.10587713995948433 accuracy 97.06\n",
            "epoch 0 batch 5300 loss 0.09938073893077672 accuracy 96.64\n",
            "epoch 0 batch 5400 loss 0.08783036251086741 accuracy 97.58\n",
            "epoch 0 batch 5500 loss 0.11248854600824415 accuracy 96.97\n",
            "epoch 0 batch 5600 loss 0.08218606847338378 accuracy 97.83\n",
            "epoch 0 batch 5700 loss 0.08366132063558325 accuracy 97.65\n",
            "epoch 0 batch 5800 loss 0.1009620997402817 accuracy 97.28\n",
            "epoch 0 batch 5900 loss 0.08444427797570825 accuracy 97.3\n",
            "epoch 0 batch 6000 loss 0.08513215187937022 accuracy 97.42\n",
            "epoch 0 batch 6100 loss 0.0954622595058754 accuracy 97.05\n",
            "epoch 0 batch 6200 loss 0.09954178236424922 accuracy 96.58\n",
            "epoch 0 batch 6300 loss 0.08864391473121941 accuracy 97.42\n",
            "epoch 0 batch 6400 loss 0.07321413397789002 accuracy 97.48\n",
            "epoch 0 batch 6500 loss 0.07718376157805323 accuracy 97.83\n",
            "epoch 0 batch 6600 loss 0.10213282213080674 accuracy 97.36\n",
            "epoch 0 batch 6700 loss 0.08830569239798933 accuracy 97.59\n",
            "epoch 0 batch 6800 loss 0.07262642360525205 accuracy 98.32\n",
            "epoch 0 batch 6900 loss 0.10470555766485631 accuracy 97.11\n",
            "epoch 0 batch 7000 loss 0.09150183699093759 accuracy 97.04\n",
            "epoch 0 batch 7100 loss 0.09100645052269102 accuracy 97.54\n",
            "epoch 0 batch 7200 loss 0.08596494659781456 accuracy 97.66\n",
            "epoch 0 batch 7300 loss 0.09883035243488848 accuracy 97.34\n",
            "epoch 0 batch 7400 loss 0.07060326326638461 accuracy 97.42\n",
            "epoch 0 batch 7500 loss 0.08016110980417579 accuracy 97.6\n",
            "epoch 0 batch 7600 loss 0.0770899550523609 accuracy 97.66\n",
            "epoch 0 batch 7700 loss 0.07624834836926311 accuracy 97.59\n",
            "epoch 0 batch 7800 loss 0.07596555560827255 accuracy 97.72\n",
            "epoch 0 batch 7900 loss 0.06720902956090867 accuracy 97.89\n",
            "epoch 0 batch 8000 loss 0.07483169649727643 accuracy 97.83\n",
            "epoch 0 batch 8100 loss 0.07788860125700012 accuracy 97.7\n",
            "epoch 0 batch 8200 loss 0.1124868086562492 accuracy 96.42\n",
            "epoch 0 batch 8300 loss 0.07817192254122346 accuracy 97.66\n",
            "epoch 0 batch 8400 loss 0.06485690916422754 accuracy 97.58\n",
            "epoch 0 batch 8500 loss 0.08703886860515922 accuracy 97.59\n",
            "epoch 0 batch 8600 loss 0.07609283396042883 accuracy 97.84\n",
            "epoch 0 batch 8700 loss 0.08179362365044654 accuracy 97.53\n",
            "epoch 0 batch 8800 loss 0.05748319637961686 accuracy 98.08\n",
            "epoch 0 batch 8900 loss 0.07982464787084609 accuracy 97.72\n",
            "epoch 0 batch 9000 loss 0.0830099309468642 accuracy 97.18\n",
            "epoch 0 batch 9100 loss 0.07753284721635283 accuracy 97.59\n",
            "epoch 0 batch 9200 loss 0.09240708328783512 accuracy 97.78\n",
            "epoch 0 batch 9300 loss 0.09993013178696857 accuracy 96.92\n",
            "epoch 0 batch 9400 loss 0.07363997980952262 accuracy 97.84\n",
            "epoch 0 batch 9500 loss 0.06634809689130634 accuracy 98.32\n",
            "epoch 0 batch 9600 loss 0.0812347623705864 accuracy 97.36\n",
            "epoch 0 batch 9700 loss 0.08970409689471126 accuracy 96.94\n",
            "epoch 0 batch 9800 loss 0.07218242379836738 accuracy 98.08\n",
            "epoch 0 batch 9900 loss 0.06289100050460547 accuracy 98.08\n",
            "epoch 0 batch 10000 loss 0.06585967796156184 accuracy 97.76\n",
            "epoch 0 batch 10100 loss 0.0798668306763284 accuracy 97.66\n",
            "epoch 0 batch 10200 loss 0.07399905379861593 accuracy 98.01\n",
            "epoch 0 batch 10300 loss 0.07556484011933208 accuracy 97.96\n",
            "epoch 0 batch 10400 loss 0.07823163169901819 accuracy 97.59\n",
            "epoch 0 batch 10500 loss 0.08626240925863385 accuracy 97.11\n",
            "epoch 0 batch 10600 loss 0.09284545398782938 accuracy 97.33\n",
            "epoch 0 batch 10700 loss 0.08233690821565688 accuracy 97.64\n",
            "epoch 0 batch 10800 loss 0.058051409851759675 accuracy 98.38\n",
            "epoch 0 batch 10900 loss 0.06680863428628073 accuracy 98.26\n",
            "epoch 0 batch 11000 loss 0.05295565546723083 accuracy 98.44\n",
            "epoch 0 batch 11100 loss 0.06361534351948649 accuracy 98.14\n",
            "epoch 0 batch 11200 loss 0.07641185975633562 accuracy 97.9\n",
            "epoch 0 batch 11300 loss 0.06684479782823473 accuracy 98.2\n",
            "epoch 0 batch 11400 loss 0.07446615764405579 accuracy 97.71\n",
            "epoch 0 batch 11500 loss 0.07158613437553868 accuracy 98.06\n",
            "epoch 0 batch 11600 loss 0.08007301846053451 accuracy 97.54\n",
            "epoch 0 batch 11700 loss 0.06595384799409658 accuracy 98.2\n",
            "epoch 0 batch 11800 loss 0.08119391410145908 accuracy 97.71\n",
            "epoch 0 batch 11900 loss 0.07272928466554732 accuracy 97.6\n",
            "epoch 0 batch 12000 loss 0.08550106546841561 accuracy 97.72\n",
            "epoch 0 batch 12100 loss 0.05868716133525595 accuracy 97.96\n",
            "epoch 0 batch 12200 loss 0.07758178152143955 accuracy 97.77\n",
            "epoch 0 batch 12300 loss 0.0792162613524124 accuracy 97.66\n",
            "epoch 0 batch 12400 loss 0.07994129325263202 accuracy 97.77\n",
            "epoch 0 batch 12500 loss 0.08263808311894535 accuracy 97.42\n",
            "epoch 0 batch 12600 loss 0.06991737755015492 accuracy 98.2\n",
            "epoch 0 batch 12700 loss 0.086039469698444 accuracy 97.28\n",
            "epoch 0 batch 12800 loss 0.07944836275652051 accuracy 97.59\n",
            "epoch 0 batch 12900 loss 0.06418255684897303 accuracy 98.26\n",
            "epoch 0 batch 13000 loss 0.05926538800355047 accuracy 98.5\n",
            "epoch 0 batch 13100 loss 0.08713385564740747 accuracy 97.6\n",
            "epoch 0 batch 13200 loss 0.07101131306495517 accuracy 97.84\n",
            "epoch 0 batch 13300 loss 0.05871277105645276 accuracy 98.44\n",
            "epoch 0 batch 13400 loss 0.06206889053108171 accuracy 98.08\n",
            "epoch 0 batch 13500 loss 0.10227222999092192 accuracy 97.42\n",
            "epoch 0 batch 13600 loss 0.0670941492030397 accuracy 97.89\n",
            "epoch 0 batch 13700 loss 0.06074098746757954 accuracy 98.08\n",
            "epoch 0 batch 13800 loss 0.06321784199215472 accuracy 97.96\n",
            "epoch 0 batch 13900 loss 0.06444420050596818 accuracy 98.44\n"
          ]
        },
        {
          "name": "stdout",
          "output_type": "stream",
          "text": [
            "epoch 0 batch 14000 loss 0.06685760715277865 accuracy 97.9\n",
            "epoch 0 batch 14100 loss 0.05910380063112825 accuracy 98.26\n",
            "epoch 0 batch 14200 loss 0.05547009984962642 accuracy 98.32\n",
            "epoch 0 batch 14300 loss 0.05499427926028147 accuracy 98.26\n",
            "epoch 0 batch 14400 loss 0.06271349372458644 accuracy 98.2\n",
            "epoch 0 batch 14500 loss 0.07483771634055301 accuracy 98.08\n",
            "epoch 0 batch 14600 loss 0.08705841244664043 accuracy 97.3\n",
            "epoch 0 batch 14700 loss 0.06243774818023667 accuracy 98.32\n",
            "epoch 0 batch 14800 loss 0.07221937214024365 accuracy 97.89\n",
            "epoch 0 batch 14900 loss 0.06990304476115852 accuracy 97.76\n",
            "epoch 0 batch 15000 loss 0.0641859418177046 accuracy 98.32\n",
            "epoch 0 batch 15100 loss 0.04856189468177036 accuracy 98.68\n",
            "epoch 0 batch 15200 loss 0.04717087323428132 accuracy 98.62\n",
            "epoch 0 batch 15300 loss 0.05291440553031862 accuracy 98.38\n",
            "epoch 0 batch 15400 loss 0.03541952405124903 accuracy 98.92\n",
            "epoch 0 batch 15500 loss 0.05577380651142448 accuracy 98.37\n",
            "epoch 0 batch 15600 loss 0.06011365021346137 accuracy 98.44\n",
            "epoch 0 batch 15700 loss 0.05057784494827502 accuracy 98.5\n",
            "epoch 0 batch 15800 loss 0.051249648921657356 accuracy 98.44\n",
            "epoch 0 batch 15900 loss 0.07052633373066783 accuracy 97.78\n",
            "epoch 0 batch 16000 loss 0.05640665413811803 accuracy 98.38\n",
            "epoch 0 batch 16100 loss 0.05135401296429336 accuracy 98.5\n",
            "epoch 0 batch 16200 loss 0.07118908802280202 accuracy 97.83\n",
            "epoch 0 batch 16300 loss 0.05469698195229285 accuracy 98.31\n",
            "epoch 0 batch 16400 loss 0.05888147200690583 accuracy 98.43\n",
            "epoch 0 batch 16500 loss 0.07264104137895629 accuracy 98.08\n",
            "epoch 0 batch 16600 loss 0.06951680717756972 accuracy 98.14\n",
            "epoch 0 batch 16700 loss 0.060177527798805384 accuracy 98.14\n",
            "epoch 0 batch 16800 loss 0.057846206245012584 accuracy 98.26\n",
            "epoch 0 batch 16900 loss 0.052702662001829596 accuracy 98.25\n",
            "epoch 0 batch 17000 loss 0.06196399887092412 accuracy 98.2\n",
            "epoch 0 batch 17100 loss 0.046841685328981836 accuracy 98.8\n",
            "epoch 0 batch 17200 loss 0.052714269740972666 accuracy 98.68\n",
            "epoch 0 batch 17300 loss 0.05065974634489976 accuracy 98.32\n",
            "epoch 0 batch 17400 loss 0.050287394113838674 accuracy 98.38\n",
            "epoch 0 batch 17500 loss 0.050160408166702836 accuracy 98.5\n",
            "epoch 0 batch 17600 loss 0.06060691309394315 accuracy 98.31\n",
            "epoch 0 batch 17700 loss 0.05020905655110255 accuracy 98.62\n",
            "epoch 0 batch 17800 loss 0.06215071003185585 accuracy 98.13\n",
            "epoch 0 batch 17900 loss 0.05377877865917981 accuracy 98.19\n",
            "epoch 0 batch 18000 loss 0.04269386427826248 accuracy 99.04\n",
            "epoch 0 batch 18100 loss 0.06656424787826837 accuracy 98.26\n",
            "epoch 0 batch 18200 loss 0.053796293939230966 accuracy 98.73\n",
            "epoch 0 batch 18300 loss 0.058548917300067845 accuracy 98.08\n",
            "epoch 0 batch 18400 loss 0.06433635584777221 accuracy 98.2\n",
            "epoch 0 batch 18500 loss 0.05553521531634033 accuracy 98.32\n",
            "epoch 0 batch 18600 loss 0.0603152195783332 accuracy 98.26\n",
            "epoch 0 batch 18700 loss 0.05741356724640354 accuracy 98.56\n",
            "epoch 0 batch 18800 loss 0.06257675440283492 accuracy 98.02\n",
            "epoch 0 batch 18900 loss 0.046701947872061285 accuracy 98.68\n",
            "epoch 0 batch 19000 loss 0.051722775171510874 accuracy 98.38\n",
            "epoch 0 batch 19100 loss 0.0461613099440001 accuracy 98.68\n",
            "epoch 0 batch 19200 loss 0.06333066746476107 accuracy 98.02\n",
            "epoch 0 batch 19300 loss 0.05779945824760944 accuracy 98.2\n",
            "epoch 0 batch 19400 loss 0.06202656942419708 accuracy 98.32\n",
            "epoch 0 batch 19500 loss 0.061495011239312586 accuracy 98.37\n",
            "epoch 0 batch 19600 loss 0.054593344347085807 accuracy 98.44\n",
            "epoch 0 batch 19700 loss 0.061299079866148534 accuracy 98.44\n",
            "epoch 0 batch 19800 loss 0.05959254788816906 accuracy 98.74\n",
            "epoch 0 batch 19900 loss 0.054612554142950104 accuracy 98.2\n",
            "epoch 0 batch 20000 loss 0.06332087859045714 accuracy 98.07\n",
            "epoch 0 batch 20100 loss 0.05916364799253643 accuracy 98.08\n",
            "epoch 0 batch 20200 loss 0.07280925654573366 accuracy 97.83\n",
            "epoch 0 batch 20300 loss 0.06367941769305617 accuracy 98.38\n",
            "epoch 0 batch 20400 loss 0.06023011472076178 accuracy 98.55\n",
            "epoch 0 batch 20500 loss 0.06955056975362822 accuracy 98.14\n",
            "epoch 0 batch 20600 loss 0.04713132008677348 accuracy 98.56\n",
            "epoch 0 batch 20700 loss 0.055177707451512105 accuracy 98.26\n",
            "epoch 0 batch 20800 loss 0.05147056691814214 accuracy 98.86\n",
            "epoch 0 batch 20900 loss 0.05486499236198142 accuracy 98.44\n",
            "epoch 1 batch 0 loss 0.0003159952536225319 accuracy 1.0\n"
          ]
        },
        {
          "ename": "KeyboardInterrupt",
          "evalue": "",
          "output_type": "error",
          "traceback": [
            "\u001b[1;31m---------------------------------------------------------------------------\u001b[0m",
            "\u001b[1;31mKeyboardInterrupt\u001b[0m                         Traceback (most recent call last)",
            "\u001b[1;32m<ipython-input-6-1100e76a5ab9>\u001b[0m in \u001b[0;36m<module>\u001b[1;34m\u001b[0m\n\u001b[0;32m      6\u001b[0m \u001b[1;31m# train the model\u001b[0m\u001b[1;33m\u001b[0m\u001b[1;33m\u001b[0m\u001b[1;33m\u001b[0m\u001b[0m\n\u001b[0;32m      7\u001b[0m \u001b[0msolver\u001b[0m \u001b[1;33m=\u001b[0m \u001b[0mSolver\u001b[0m\u001b[1;33m(\u001b[0m\u001b[0mmodel\u001b[0m\u001b[1;33m,\u001b[0m \u001b[0mloader_train\u001b[0m\u001b[1;33m,\u001b[0m \u001b[0mnum_epoches\u001b[0m\u001b[1;33m=\u001b[0m\u001b[0mnum_epoches\u001b[0m\u001b[1;33m,\u001b[0m \u001b[0mdevice\u001b[0m\u001b[1;33m=\u001b[0m\u001b[0mdevice\u001b[0m\u001b[1;33m,\u001b[0m \u001b[0mprint_freq\u001b[0m\u001b[1;33m=\u001b[0m\u001b[1;36m100\u001b[0m\u001b[1;33m,\u001b[0m \u001b[0mfix_feature_model\u001b[0m\u001b[1;33m=\u001b[0m\u001b[1;32mFalse\u001b[0m\u001b[1;33m)\u001b[0m\u001b[1;33m\u001b[0m\u001b[1;33m\u001b[0m\u001b[0m\n\u001b[1;32m----> 8\u001b[1;33m \u001b[0mmodel\u001b[0m\u001b[1;33m,\u001b[0m \u001b[0mloss_training\u001b[0m\u001b[1;33m,\u001b[0m \u001b[0mtraining_accuracy\u001b[0m \u001b[1;33m=\u001b[0m \u001b[0msolver\u001b[0m\u001b[1;33m.\u001b[0m\u001b[0mtrain\u001b[0m\u001b[1;33m(\u001b[0m\u001b[1;33m)\u001b[0m\u001b[1;33m\u001b[0m\u001b[1;33m\u001b[0m\u001b[0m\n\u001b[0m",
            "\u001b[1;32m<ipython-input-4-fe17b2f92e1d>\u001b[0m in \u001b[0;36mtrain\u001b[1;34m(self)\u001b[0m\n\u001b[0;32m     43\u001b[0m \u001b[1;33m\u001b[0m\u001b[0m\n\u001b[0;32m     44\u001b[0m                 \u001b[1;31m# stats\u001b[0m\u001b[1;33m\u001b[0m\u001b[1;33m\u001b[0m\u001b[1;33m\u001b[0m\u001b[0m\n\u001b[1;32m---> 45\u001b[1;33m                 \u001b[0mepoch_loss\u001b[0m\u001b[1;33m.\u001b[0m\u001b[0mappend\u001b[0m\u001b[1;33m(\u001b[0m\u001b[0mloss\u001b[0m\u001b[1;33m.\u001b[0m\u001b[0mitem\u001b[0m\u001b[1;33m(\u001b[0m\u001b[1;33m)\u001b[0m\u001b[1;33m)\u001b[0m\u001b[1;33m\u001b[0m\u001b[1;33m\u001b[0m\u001b[0m\n\u001b[0m\u001b[0;32m     46\u001b[0m                 \u001b[0macc\u001b[0m \u001b[1;33m=\u001b[0m \u001b[0mself\u001b[0m\u001b[1;33m.\u001b[0m\u001b[0mget_accuracy\u001b[0m\u001b[1;33m(\u001b[0m\u001b[0moutputs\u001b[0m\u001b[1;33m,\u001b[0m \u001b[0mlabels\u001b[0m\u001b[1;33m)\u001b[0m\u001b[1;33m\u001b[0m\u001b[1;33m\u001b[0m\u001b[0m\n\u001b[0;32m     47\u001b[0m                 \u001b[0mepoch_accuracy\u001b[0m\u001b[1;33m.\u001b[0m\u001b[0mappend\u001b[0m\u001b[1;33m(\u001b[0m\u001b[0macc\u001b[0m\u001b[1;33m)\u001b[0m\u001b[1;33m\u001b[0m\u001b[1;33m\u001b[0m\u001b[0m\n",
            "\u001b[1;31mKeyboardInterrupt\u001b[0m: "
          ]
        }
      ],
      "source": [
        "# convRelationNN\n",
        "# train both relationNN and featureNN\n",
        "\n",
        "num_epoches = 1\n",
        "\n",
        "# model\n",
        "model = AppearanceNN(conv=True).to(device)\n",
        "\n",
        "# train the model\n",
        "solver = Solver(model, loader_train, num_epoches=num_epoches, device=device, print_freq=100, fix_feature_model=False)\n",
        "model, loss_training, training_accuracy = solver.train()"
      ]
    },
    {
      "cell_type": "code",
      "execution_count": null,
      "id": "4a3e9241",
      "metadata": {
        "id": "4a3e9241"
      },
      "outputs": [],
      "source": [
        "# save model\n",
        "torch.save(model, \"AppearanceNN_conv_all_0\")"
      ]
    },
    {
      "cell_type": "code",
      "execution_count": null,
      "id": "838ac29a",
      "metadata": {
        "scrolled": true,
        "id": "838ac29a",
        "outputId": "ab517c76-e32a-4be5-8f98-9e8afe53890f"
      },
      "outputs": [
        {
          "name": "stdout",
          "output_type": "stream",
          "text": [
            "epoch 0 batch 0 loss 0.007924092411994934 accuracy 0.31\n",
            "epoch 0 batch 100 loss 0.33261134543077786 accuracy 92.64\n",
            "epoch 0 batch 200 loss 0.28072944955900314 accuracy 93.07\n",
            "epoch 0 batch 300 loss 0.31716356293298303 accuracy 91.43\n",
            "epoch 0 batch 400 loss 0.34292919363826513 accuracy 91.64\n",
            "epoch 0 batch 500 loss 0.29306380566209556 accuracy 93.47\n",
            "epoch 0 batch 600 loss 0.3458004136011004 accuracy 91.33\n",
            "epoch 0 batch 700 loss 0.30803494011983273 accuracy 92.71\n",
            "epoch 0 batch 800 loss 0.46908529215492306 accuracy 91.55\n",
            "epoch 0 batch 900 loss 0.39096067221835257 accuracy 91.81\n",
            "epoch 0 batch 1000 loss 0.2853399042505771 accuracy 93.44\n",
            "epoch 0 batch 1100 loss 0.3050819994136691 accuracy 92.8\n",
            "epoch 0 batch 1200 loss 0.31435624400153755 accuracy 93.07\n",
            "epoch 0 batch 1300 loss 0.34393303126096725 accuracy 93.25\n",
            "epoch 0 batch 1400 loss 0.32159786246716976 accuracy 92.65\n",
            "epoch 0 batch 1500 loss 0.3484205725416541 accuracy 92.72\n",
            "epoch 0 batch 1600 loss 0.3226844382844865 accuracy 93.14\n",
            "epoch 0 batch 1700 loss 0.2627694107219577 accuracy 93.74\n",
            "epoch 0 batch 1800 loss 0.2834836906939745 accuracy 93.06\n",
            "epoch 0 batch 1900 loss 0.30137300793081523 accuracy 93.33\n",
            "epoch 0 batch 2000 loss 0.4841198837570846 accuracy 93.37\n",
            "epoch 0 batch 2100 loss 0.3618619970604777 accuracy 91.98\n",
            "epoch 0 batch 2200 loss 0.45707114491611717 accuracy 92.61\n",
            "epoch 0 batch 2300 loss 0.38606600303202865 accuracy 92.54\n",
            "epoch 0 batch 2400 loss 0.3193523269332945 accuracy 93.54\n",
            "epoch 0 batch 2500 loss 0.33196688441559674 accuracy 93.16\n",
            "epoch 0 batch 2600 loss 0.4125624676793814 accuracy 89.97\n",
            "epoch 0 batch 2700 loss 0.33917055930942297 accuracy 91.84\n",
            "epoch 0 batch 2800 loss 0.331664408184588 accuracy 92.12\n",
            "epoch 0 batch 2900 loss 0.3355199812911451 accuracy 92.45\n",
            "epoch 0 batch 3000 loss 0.3445921810530126 accuracy 92.51\n",
            "epoch 0 batch 3100 loss 0.3485542212426662 accuracy 92.1\n",
            "epoch 0 batch 3200 loss 0.29433935213834045 accuracy 94.02\n",
            "epoch 0 batch 3300 loss 0.3792703741788864 accuracy 91.77\n",
            "epoch 0 batch 3400 loss 0.31237514173611997 accuracy 93.25\n",
            "epoch 0 batch 3500 loss 0.3634228887781501 accuracy 91.77\n",
            "epoch 0 batch 3600 loss 0.3519798498041928 accuracy 92.14\n",
            "epoch 0 batch 3700 loss 0.319245698582381 accuracy 92.79\n",
            "epoch 0 batch 3800 loss 0.2946027062647045 accuracy 93.8\n",
            "epoch 0 batch 3900 loss 0.29877365317195653 accuracy 93.43\n",
            "epoch 0 batch 4000 loss 0.34544456131756307 accuracy 92.82\n",
            "epoch 0 batch 4100 loss 0.3373367384262383 accuracy 91.79\n",
            "epoch 0 batch 4200 loss 0.28790173327550295 accuracy 93.05\n",
            "epoch 0 batch 4300 loss 0.3259768148511648 accuracy 92.17\n",
            "epoch 0 batch 4400 loss 0.29210083223879335 accuracy 93.01\n",
            "epoch 0 batch 4500 loss 0.3077345863543451 accuracy 92.79\n",
            "epoch 0 batch 4600 loss 0.38077153883874415 accuracy 91.02\n",
            "epoch 0 batch 4700 loss 0.38067759718745947 accuracy 91.71\n",
            "epoch 0 batch 4800 loss 0.2835137201845646 accuracy 93.65\n",
            "epoch 0 batch 4900 loss 0.2949200021289289 accuracy 93.03\n",
            "epoch 0 batch 5000 loss 0.29656307566910983 accuracy 93.07\n"
          ]
        },
        {
          "ename": "KeyboardInterrupt",
          "evalue": "",
          "output_type": "error",
          "traceback": [
            "\u001b[1;31m---------------------------------------------------------------------------\u001b[0m",
            "\u001b[1;31mKeyboardInterrupt\u001b[0m                         Traceback (most recent call last)",
            "\u001b[1;32m<ipython-input-8-856195078eb7>\u001b[0m in \u001b[0;36m<module>\u001b[1;34m\u001b[0m\n\u001b[0;32m      6\u001b[0m \u001b[1;31m# train the model\u001b[0m\u001b[1;33m\u001b[0m\u001b[1;33m\u001b[0m\u001b[1;33m\u001b[0m\u001b[0m\n\u001b[0;32m      7\u001b[0m \u001b[0msolver\u001b[0m \u001b[1;33m=\u001b[0m \u001b[0mSolver\u001b[0m\u001b[1;33m(\u001b[0m\u001b[0mmodel\u001b[0m\u001b[1;33m,\u001b[0m \u001b[0mloader_train\u001b[0m\u001b[1;33m,\u001b[0m \u001b[0mnum_epoches\u001b[0m\u001b[1;33m=\u001b[0m\u001b[0mnum_epoches\u001b[0m\u001b[1;33m,\u001b[0m \u001b[0mdevice\u001b[0m\u001b[1;33m=\u001b[0m\u001b[0mdevice\u001b[0m\u001b[1;33m,\u001b[0m \u001b[0mprint_freq\u001b[0m\u001b[1;33m=\u001b[0m\u001b[1;36m100\u001b[0m\u001b[1;33m,\u001b[0m \u001b[0mfix_feature_model\u001b[0m\u001b[1;33m=\u001b[0m\u001b[1;32mFalse\u001b[0m\u001b[1;33m)\u001b[0m\u001b[1;33m\u001b[0m\u001b[1;33m\u001b[0m\u001b[0m\n\u001b[1;32m----> 8\u001b[1;33m \u001b[0mmodel\u001b[0m\u001b[1;33m,\u001b[0m \u001b[0mloss_training\u001b[0m\u001b[1;33m,\u001b[0m \u001b[0mtraining_accuracy\u001b[0m \u001b[1;33m=\u001b[0m \u001b[0msolver\u001b[0m\u001b[1;33m.\u001b[0m\u001b[0mtrain\u001b[0m\u001b[1;33m(\u001b[0m\u001b[1;33m)\u001b[0m\u001b[1;33m\u001b[0m\u001b[1;33m\u001b[0m\u001b[0m\n\u001b[0m",
            "\u001b[1;32m<ipython-input-6-fe17b2f92e1d>\u001b[0m in \u001b[0;36mtrain\u001b[1;34m(self)\u001b[0m\n\u001b[0;32m     30\u001b[0m             \u001b[1;32mfor\u001b[0m \u001b[0mi\u001b[0m\u001b[1;33m,\u001b[0m \u001b[0mdata\u001b[0m \u001b[1;32min\u001b[0m \u001b[0menumerate\u001b[0m\u001b[1;33m(\u001b[0m\u001b[0mself\u001b[0m\u001b[1;33m.\u001b[0m\u001b[0mdataloader\u001b[0m\u001b[1;33m)\u001b[0m\u001b[1;33m:\u001b[0m\u001b[1;33m\u001b[0m\u001b[1;33m\u001b[0m\u001b[0m\n\u001b[0;32m     31\u001b[0m                 \u001b[1;31m# get the inputs; data is (image1, image2, label)\u001b[0m\u001b[1;33m\u001b[0m\u001b[1;33m\u001b[0m\u001b[1;33m\u001b[0m\u001b[0m\n\u001b[1;32m---> 32\u001b[1;33m                 \u001b[0mdata\u001b[0m \u001b[1;33m=\u001b[0m \u001b[1;33m[\u001b[0m\u001b[0md\u001b[0m\u001b[1;33m.\u001b[0m\u001b[0mto\u001b[0m\u001b[1;33m(\u001b[0m\u001b[0mdevice\u001b[0m\u001b[1;33m)\u001b[0m \u001b[1;32mfor\u001b[0m \u001b[0md\u001b[0m \u001b[1;32min\u001b[0m \u001b[0mdata\u001b[0m\u001b[1;33m]\u001b[0m\u001b[1;33m\u001b[0m\u001b[1;33m\u001b[0m\u001b[0m\n\u001b[0m\u001b[0;32m     33\u001b[0m                 \u001b[0mlabels\u001b[0m \u001b[1;33m=\u001b[0m \u001b[0mdata\u001b[0m\u001b[1;33m[\u001b[0m\u001b[1;36m2\u001b[0m\u001b[1;33m]\u001b[0m\u001b[1;33m.\u001b[0m\u001b[0mreshape\u001b[0m\u001b[1;33m(\u001b[0m\u001b[1;33m(\u001b[0m\u001b[1;33m-\u001b[0m\u001b[1;36m1\u001b[0m\u001b[1;33m,\u001b[0m\u001b[1;36m1\u001b[0m\u001b[1;33m)\u001b[0m\u001b[1;33m)\u001b[0m\u001b[1;33m\u001b[0m\u001b[1;33m\u001b[0m\u001b[0m\n\u001b[0;32m     34\u001b[0m \u001b[1;33m\u001b[0m\u001b[0m\n",
            "\u001b[1;32m<ipython-input-6-fe17b2f92e1d>\u001b[0m in \u001b[0;36m<listcomp>\u001b[1;34m(.0)\u001b[0m\n\u001b[0;32m     30\u001b[0m             \u001b[1;32mfor\u001b[0m \u001b[0mi\u001b[0m\u001b[1;33m,\u001b[0m \u001b[0mdata\u001b[0m \u001b[1;32min\u001b[0m \u001b[0menumerate\u001b[0m\u001b[1;33m(\u001b[0m\u001b[0mself\u001b[0m\u001b[1;33m.\u001b[0m\u001b[0mdataloader\u001b[0m\u001b[1;33m)\u001b[0m\u001b[1;33m:\u001b[0m\u001b[1;33m\u001b[0m\u001b[1;33m\u001b[0m\u001b[0m\n\u001b[0;32m     31\u001b[0m                 \u001b[1;31m# get the inputs; data is (image1, image2, label)\u001b[0m\u001b[1;33m\u001b[0m\u001b[1;33m\u001b[0m\u001b[1;33m\u001b[0m\u001b[0m\n\u001b[1;32m---> 32\u001b[1;33m                 \u001b[0mdata\u001b[0m \u001b[1;33m=\u001b[0m \u001b[1;33m[\u001b[0m\u001b[0md\u001b[0m\u001b[1;33m.\u001b[0m\u001b[0mto\u001b[0m\u001b[1;33m(\u001b[0m\u001b[0mdevice\u001b[0m\u001b[1;33m)\u001b[0m \u001b[1;32mfor\u001b[0m \u001b[0md\u001b[0m \u001b[1;32min\u001b[0m \u001b[0mdata\u001b[0m\u001b[1;33m]\u001b[0m\u001b[1;33m\u001b[0m\u001b[1;33m\u001b[0m\u001b[0m\n\u001b[0m\u001b[0;32m     33\u001b[0m                 \u001b[0mlabels\u001b[0m \u001b[1;33m=\u001b[0m \u001b[0mdata\u001b[0m\u001b[1;33m[\u001b[0m\u001b[1;36m2\u001b[0m\u001b[1;33m]\u001b[0m\u001b[1;33m.\u001b[0m\u001b[0mreshape\u001b[0m\u001b[1;33m(\u001b[0m\u001b[1;33m(\u001b[0m\u001b[1;33m-\u001b[0m\u001b[1;36m1\u001b[0m\u001b[1;33m,\u001b[0m\u001b[1;36m1\u001b[0m\u001b[1;33m)\u001b[0m\u001b[1;33m)\u001b[0m\u001b[1;33m\u001b[0m\u001b[1;33m\u001b[0m\u001b[0m\n\u001b[0;32m     34\u001b[0m \u001b[1;33m\u001b[0m\u001b[0m\n",
            "\u001b[1;31mKeyboardInterrupt\u001b[0m: "
          ]
        }
      ],
      "source": [
        "# fcRelationNN\n",
        "# train both relationNN and featureNN\n",
        "\n",
        "num_epoches = 1\n",
        "\n",
        "# model\n",
        "model = AppearanceNN(conv=False).to(device)\n",
        "\n",
        "# train the model\n",
        "solver = Solver(model, loader_train, num_epoches=num_epoches, device=device, print_freq=100, fix_feature_model=False)\n",
        "model, loss_training, training_accuracy = solver.train()"
      ]
    },
    {
      "cell_type": "code",
      "execution_count": null,
      "id": "bf44d6f1",
      "metadata": {
        "id": "bf44d6f1"
      },
      "outputs": [],
      "source": [
        "string = \"\"\"epoch 0 batch 0 loss 0.007924092411994934 accuracy 0.31\n",
        "epoch 0 batch 100 loss 0.33261134543077786 accuracy 92.64\n",
        "epoch 0 batch 200 loss 0.28072944955900314 accuracy 93.07\n",
        "epoch 0 batch 300 loss 0.31716356293298303 accuracy 91.43\n",
        "epoch 0 batch 400 loss 0.34292919363826513 accuracy 91.64\n",
        "epoch 0 batch 500 loss 0.29306380566209556 accuracy 93.47\n",
        "epoch 0 batch 600 loss 0.3458004136011004 accuracy 91.33\n",
        "epoch 0 batch 700 loss 0.30803494011983273 accuracy 92.71\n",
        "epoch 0 batch 800 loss 0.46908529215492306 accuracy 91.55\n",
        "epoch 0 batch 900 loss 0.39096067221835257 accuracy 91.81\n",
        "epoch 0 batch 1000 loss 0.2853399042505771 accuracy 93.44\n",
        "epoch 0 batch 1100 loss 0.3050819994136691 accuracy 92.8\n",
        "epoch 0 batch 1200 loss 0.31435624400153755 accuracy 93.07\n",
        "epoch 0 batch 1300 loss 0.34393303126096725 accuracy 93.25\n",
        "epoch 0 batch 1400 loss 0.32159786246716976 accuracy 92.65\n",
        "epoch 0 batch 1500 loss 0.3484205725416541 accuracy 92.72\n",
        "epoch 0 batch 1600 loss 0.3226844382844865 accuracy 93.14\n",
        "epoch 0 batch 1700 loss 0.2627694107219577 accuracy 93.74\n",
        "epoch 0 batch 1800 loss 0.2834836906939745 accuracy 93.06\n",
        "epoch 0 batch 1900 loss 0.30137300793081523 accuracy 93.33\n",
        "epoch 0 batch 2000 loss 0.4841198837570846 accuracy 93.37\n",
        "epoch 0 batch 2100 loss 0.3618619970604777 accuracy 91.98\n",
        "epoch 0 batch 2200 loss 0.45707114491611717 accuracy 92.61\n",
        "epoch 0 batch 2300 loss 0.38606600303202865 accuracy 92.54\n",
        "epoch 0 batch 2400 loss 0.3193523269332945 accuracy 93.54\n",
        "epoch 0 batch 2500 loss 0.33196688441559674 accuracy 93.16\n",
        "epoch 0 batch 2600 loss 0.4125624676793814 accuracy 89.97\n",
        "epoch 0 batch 2700 loss 0.33917055930942297 accuracy 91.84\n",
        "epoch 0 batch 2800 loss 0.331664408184588 accuracy 92.12\n",
        "epoch 0 batch 2900 loss 0.3355199812911451 accuracy 92.45\n",
        "epoch 0 batch 3000 loss 0.3445921810530126 accuracy 92.51\n",
        "epoch 0 batch 3100 loss 0.3485542212426662 accuracy 92.1\n",
        "epoch 0 batch 3200 loss 0.29433935213834045 accuracy 94.02\n",
        "epoch 0 batch 3300 loss 0.3792703741788864 accuracy 91.77\n",
        "epoch 0 batch 3400 loss 0.31237514173611997 accuracy 93.25\n",
        "epoch 0 batch 3500 loss 0.3634228887781501 accuracy 91.77\n",
        "epoch 0 batch 3600 loss 0.3519798498041928 accuracy 92.14\n",
        "epoch 0 batch 3700 loss 0.319245698582381 accuracy 92.79\n",
        "epoch 0 batch 3800 loss 0.2946027062647045 accuracy 93.8\n",
        "epoch 0 batch 3900 loss 0.29877365317195653 accuracy 93.43\n",
        "epoch 0 batch 4000 loss 0.34544456131756307 accuracy 92.82\n",
        "epoch 0 batch 4100 loss 0.3373367384262383 accuracy 91.79\n",
        "epoch 0 batch 4200 loss 0.28790173327550295 accuracy 93.05\n",
        "epoch 0 batch 4300 loss 0.3259768148511648 accuracy 92.17\n",
        "epoch 0 batch 4400 loss 0.29210083223879335 accuracy 93.01\n",
        "epoch 0 batch 4500 loss 0.3077345863543451 accuracy 92.79\n",
        "epoch 0 batch 4600 loss 0.38077153883874415 accuracy 91.02\n",
        "epoch 0 batch 4700 loss 0.38067759718745947 accuracy 91.71\n",
        "epoch 0 batch 4800 loss 0.2835137201845646 accuracy 93.65\n",
        "epoch 0 batch 4900 loss 0.2949200021289289 accuracy 93.03\n",
        "epoch 0 batch 5000 loss 0.29656307566910983 accuracy 93.07\"\"\"\n",
        "\n",
        "lines = [float(line.split(\" \")[-1]) for line in string.split(\"\\n\")[1:]]\n",
        "lines2 = [float(line.split(\" \")[-3]) for line in string.split(\"\\n\")[1:]]\n",
        "\n",
        "with open(\"fc_both_training_acc.pickle\", \"wb\") as file:\n",
        "    pickle.dump(lines, file)\n",
        "with open(\"fc_both_training_loss.pickle\", \"wb\") as file:\n",
        "    pickle.dump(lines2, file)\n",
        "    \n",
        "string = \"\"\"epoch 0 batch 0 loss 0.009253189563751221 accuracy 0.06\n",
        "epoch 0 batch 100 loss 0.3335137475002557 accuracy 91.38\n",
        "epoch 0 batch 200 loss 0.24925940174609423 accuracy 92.68\n",
        "epoch 0 batch 300 loss 0.23421923760324717 accuracy 92.93\n",
        "epoch 0 batch 400 loss 0.2081123948097229 accuracy 93.29\n",
        "epoch 0 batch 500 loss 0.20211333142593502 accuracy 93.82\n",
        "epoch 0 batch 600 loss 0.18154259890317917 accuracy 94.98\n",
        "epoch 0 batch 700 loss 0.20698679208755494 accuracy 93.33\n",
        "epoch 0 batch 800 loss 0.19267294442281127 accuracy 93.18\n",
        "epoch 0 batch 900 loss 0.1904148550890386 accuracy 93.88\n",
        "epoch 0 batch 1000 loss 0.2082230734080076 accuracy 91.89\n",
        "epoch 0 batch 1100 loss 0.17785169085487723 accuracy 93.87\n",
        "epoch 0 batch 1200 loss 0.17452372495085 accuracy 93.88\n",
        "epoch 0 batch 1300 loss 0.19748089250177145 accuracy 92.85\n",
        "epoch 0 batch 1400 loss 0.15638085778802632 accuracy 94.44\n",
        "epoch 0 batch 1500 loss 0.16413299445062876 accuracy 94.09\n",
        "epoch 0 batch 1600 loss 0.173911857791245 accuracy 93.53\n",
        "epoch 0 batch 1700 loss 0.1549014993943274 accuracy 94.74\n",
        "epoch 0 batch 1800 loss 0.15215951811522246 accuracy 94.04\n",
        "epoch 0 batch 1900 loss 0.20200377458706498 accuracy 93.39\n",
        "epoch 0 batch 2000 loss 0.15027186824008823 accuracy 94.49\n",
        "epoch 0 batch 2100 loss 0.14615469437092543 accuracy 94.46\n",
        "epoch 0 batch 2200 loss 0.15469804173335433 accuracy 94.06\n",
        "epoch 0 batch 2300 loss 0.17838707914575935 accuracy 93.44\n",
        "epoch 0 batch 2400 loss 0.1394297531992197 accuracy 94.49\n",
        "epoch 0 batch 2500 loss 0.1600206959247589 accuracy 94.04\n",
        "epoch 0 batch 2600 loss 0.14378990650177 accuracy 94.12\n",
        "epoch 0 batch 2700 loss 0.13988659406080842 accuracy 94.81\n",
        "epoch 0 batch 2800 loss 0.15234894575551153 accuracy 94.34\n",
        "epoch 0 batch 2900 loss 0.13685183538123966 accuracy 94.8\n",
        "epoch 0 batch 3000 loss 0.122488170908764 accuracy 95.65\n",
        "epoch 0 batch 3100 loss 0.1527592246234417 accuracy 93.66\n",
        "epoch 0 batch 3200 loss 0.1292353929951787 accuracy 95.28\n",
        "epoch 0 batch 3300 loss 0.11885957261547446 accuracy 95.53\n",
        "epoch 0 batch 3400 loss 0.11598265424370766 accuracy 96.0\n",
        "epoch 0 batch 3500 loss 0.12523080047219992 accuracy 95.16\n",
        "epoch 0 batch 3600 loss 0.12688668310642243 accuracy 95.4\n",
        "epoch 0 batch 3700 loss 0.1132633915822953 accuracy 96.44\n",
        "epoch 0 batch 3800 loss 0.10993322096765042 accuracy 95.58\n",
        "epoch 0 batch 3900 loss 0.10412136118859053 accuracy 96.49\n",
        "epoch 0 batch 4000 loss 0.11928633071482181 accuracy 95.85\n",
        "epoch 0 batch 4100 loss 0.10341520786751061 accuracy 96.09\n",
        "epoch 0 batch 4200 loss 0.09893381683621555 accuracy 96.27\n",
        "epoch 0 batch 4300 loss 0.10733152675442398 accuracy 96.26\n",
        "epoch 0 batch 4400 loss 0.11498923482373356 accuracy 96.17\n",
        "epoch 0 batch 4500 loss 0.1098524589277804 accuracy 96.17\n",
        "epoch 0 batch 4600 loss 0.11086514436174184 accuracy 95.95\n",
        "epoch 0 batch 4700 loss 0.09716095408424735 accuracy 96.81\n",
        "epoch 0 batch 4800 loss 0.10747864552773535 accuracy 95.89\n",
        "epoch 0 batch 4900 loss 0.09913537799846381 accuracy 96.2\n",
        "epoch 0 batch 5000 loss 0.10391748629044742 accuracy 96.15\"\"\"\n",
        "\n",
        "lines = [float(line.split(\" \")[-1]) for line in string.split(\"\\n\")[1:]]\n",
        "lines2 = [float(line.split(\" \")[-3]) for line in string.split(\"\\n\")[1:]]\n",
        "\n",
        "with open(\"conv_relation_only_training_acc.pickle\", \"wb\") as file:\n",
        "    pickle.dump(lines, file)\n",
        "with open(\"conv_relation_only_training_loss.pickle\", \"wb\") as file:\n",
        "    pickle.dump(lines2, file)\n",
        "    \n",
        "string = \"\"\"epoch 0 batch 0 loss 0.006159987449645996 accuracy 0.75\n",
        "epoch 0 batch 100 loss 0.3083283233270049 accuracy 93.05\n",
        "epoch 0 batch 200 loss 0.25105656396597625 accuracy 92.93\n",
        "epoch 0 batch 300 loss 0.22295911759138107 accuracy 93.17\n",
        "epoch 0 batch 400 loss 0.22825583528727292 accuracy 93.57\n",
        "epoch 0 batch 500 loss 0.22504189845174552 accuracy 93.79\n",
        "epoch 0 batch 600 loss 0.21949371751397848 accuracy 93.08\n",
        "epoch 0 batch 700 loss 0.20823242776095868 accuracy 93.5\n",
        "epoch 0 batch 800 loss 0.19555529102683067 accuracy 93.96\n",
        "epoch 0 batch 900 loss 0.17765896294265984 accuracy 94.37\n",
        "epoch 0 batch 1000 loss 0.1694793587550521 accuracy 94.09\n",
        "epoch 0 batch 1100 loss 0.1890670822560787 accuracy 93.67\n",
        "epoch 0 batch 1200 loss 0.19673572355881333 accuracy 93.5\n",
        "epoch 0 batch 1300 loss 0.16698604755103588 accuracy 93.7\n",
        "epoch 0 batch 1400 loss 0.21098373707383872 accuracy 93.13\n",
        "epoch 0 batch 1500 loss 0.17465000577270984 accuracy 93.59\n",
        "epoch 0 batch 1600 loss 0.18179976299405098 accuracy 93.35\n",
        "epoch 0 batch 1700 loss 0.18250596910715103 accuracy 93.09\n",
        "epoch 0 batch 1800 loss 0.15041292952373625 accuracy 94.85\n",
        "epoch 0 batch 1900 loss 0.16960195619612933 accuracy 93.68\n",
        "epoch 0 batch 2000 loss 0.1498872522637248 accuracy 94.86\n",
        "epoch 0 batch 2100 loss 0.13383158180862664 accuracy 95.65\n",
        "epoch 0 batch 2200 loss 0.13795517305843533 accuracy 95.21\n",
        "epoch 0 batch 2300 loss 0.15289618516340853 accuracy 95.48\n",
        "epoch 0 batch 2400 loss 0.1254794175736606 accuracy 95.73\n",
        "epoch 0 batch 2500 loss 0.13687597621232273 accuracy 96.14\n",
        "epoch 0 batch 2600 loss 0.1178601060807705 accuracy 96.44\n",
        "epoch 0 batch 2700 loss 0.11898944179527461 accuracy 96.09\n",
        "epoch 0 batch 2800 loss 0.11608043256215751 accuracy 95.84\n",
        "epoch 0 batch 2900 loss 0.1165462289378047 accuracy 95.92\n",
        "epoch 0 batch 3000 loss 0.12089140464551747 accuracy 95.71\n",
        "epoch 0 batch 3100 loss 0.08786833737976849 accuracy 97.24\n",
        "epoch 0 batch 3200 loss 0.10730948431417346 accuracy 96.43\n",
        "epoch 0 batch 3300 loss 0.09185971354600042 accuracy 97.12\n",
        "epoch 0 batch 3400 loss 0.0985759101388976 accuracy 96.57\n",
        "epoch 0 batch 3500 loss 0.1203550059068948 accuracy 96.09\n",
        "epoch 0 batch 3600 loss 0.0955104648694396 accuracy 96.81\n",
        "epoch 0 batch 3700 loss 0.09909208695404231 accuracy 96.33\n",
        "epoch 0 batch 3800 loss 0.12222047288902103 accuracy 95.57\n",
        "epoch 0 batch 3900 loss 0.10054191951174289 accuracy 96.93\n",
        "epoch 0 batch 4000 loss 0.09921391214244067 accuracy 97.24\n",
        "epoch 0 batch 4100 loss 0.11521617983467877 accuracy 95.91\n",
        "epoch 0 batch 4200 loss 0.1012508731521666 accuracy 96.57\n",
        "epoch 0 batch 4300 loss 0.09600707482546568 accuracy 96.86\n",
        "epoch 0 batch 4400 loss 0.10065837310627103 accuracy 96.88\n",
        "epoch 0 batch 4500 loss 0.09670989803038538 accuracy 97.04\n",
        "epoch 0 batch 4600 loss 0.09927529951557518 accuracy 96.88\n",
        "epoch 0 batch 4700 loss 0.0974165983311832 accuracy 96.58\n",
        "epoch 0 batch 4800 loss 0.117191402297467 accuracy 96.52\n",
        "epoch 0 batch 4900 loss 0.11713451785966754 accuracy 96.66\n",
        "epoch 0 batch 5000 loss 0.07874808759661392 accuracy 97.29\"\"\"\n",
        "\n",
        "lines = [float(line.split(\" \")[-1]) for line in string.split(\"\\n\")[1:]]\n",
        "lines2 = [float(line.split(\" \")[-3]) for line in string.split(\"\\n\")[1:]]\n",
        "\n",
        "with open(\"conv_both_training_acc.pickle\", \"wb\") as file:\n",
        "    pickle.dump(lines, file)\n",
        "with open(\"conv_both_training_loss.pickle\", \"wb\") as file:\n",
        "    pickle.dump(lines2, file)"
      ]
    },
    {
      "cell_type": "code",
      "execution_count": null,
      "id": "38569a89",
      "metadata": {
        "id": "38569a89",
        "outputId": "7dd9003c-0b55-424f-ec85-58cb9e6e220d"
      },
      "outputs": [
        {
          "data": {
            "image/png": "[encoded data removed]",
            "text/plain": [
              "<Figure size 432x288 with 1 Axes>"
            ]
          },
          "metadata": {
            "needs_background": "light"
          },
          "output_type": "display_data"
        },
        {
          "data": {
            "image/png": "[encoded data removed]",
            "text/plain": [
              "<Figure size 432x288 with 1 Axes>"
            ]
          },
          "metadata": {
            "needs_background": "light"
          },
          "output_type": "display_data"
        }
      ],
      "source": [
        "# plot results\n",
        "import pickle\n",
        "import numpy as np\n",
        "import matplotlib.pyplot as plt\n",
        "\n",
        "with open(\"fc_both_training_acc.pickle\", \"rb\") as file:\n",
        "    fc_both_training_acc = pickle.load(file)\n",
        "with open(\"conv_both_training_acc.pickle\", \"rb\") as file:\n",
        "    conv_both_training_acc = pickle.load(file)\n",
        "with open(\"conv_relation_only_training_acc.pickle\", \"rb\") as file:\n",
        "    conv_relation_only_training_acc = pickle.load(file)\n",
        "    \n",
        "# plt.yscale(\"log\")\n",
        "fig, ax = plt.subplots()\n",
        "plt.plot(range(len(fc_both_training_acc)), fc_both_training_acc, label=\"AppearanceNN_fc\")\n",
        "plt.plot(range(len(fc_both_training_acc)), conv_both_training_acc, label=\"AppearanceNN_conv\")\n",
        "plt.plot(range(len(fc_both_training_acc)), conv_relation_only_training_acc, label=\"AppearanceNN_conv_fix\")\n",
        "plt.legend(loc=\"upper left\")\n",
        "plt.xticks([0, 10, 20, 30, 40, 50], [0, 1000, 2000, 3000, 4000, 5000])\n",
        "plt.xlabel(\"Training Batches\")\n",
        "plt.ylabel(\"Training Accuracy\")\n",
        "ax = plt.gca()\n",
        "ax.set_ylim([89, 98])\n",
        "fig.savefig(\"2_way_training_acc.pdf\", \n",
        "               bbox_inches='tight', \n",
        "               transparent=True,\n",
        "               pad_inches=0)\n",
        "plt.show()\n",
        "\n",
        "with open(\"fc_both_training_loss.pickle\", \"rb\") as file:\n",
        "    fc_both_training_loss = pickle.load(file)\n",
        "with open(\"conv_both_training_loss.pickle\", \"rb\") as file:\n",
        "    conv_both_training_loss = pickle.load(file)\n",
        "with open(\"conv_relation_only_training_loss.pickle\", \"rb\") as file:\n",
        "    conv_relation_only_training_loss = pickle.load(file)\n",
        "    \n",
        "# plt.yscale(\"log\")\n",
        "fig, ax = plt.subplots()\n",
        "plt.plot(range(len(fc_both_training_acc)), fc_both_training_loss, label=\"AppearanceNN_fc\")\n",
        "plt.plot(range(len(fc_both_training_acc)), conv_both_training_loss, label=\"AppearanceNN_conv\")\n",
        "plt.plot(range(len(fc_both_training_acc)), conv_relation_only_training_loss, label=\"AppearanceNN_conv_fix\")\n",
        "plt.legend(loc=\"upper right\")\n",
        "plt.xticks([0, 10, 20, 30, 40, 50], [0, 1000, 2000, 3000, 4000, 5000])\n",
        "plt.xlabel(\"Training Batches\")\n",
        "plt.ylabel(\"Training Loss\")\n",
        "fig.savefig(\"2_way_training_loss.pdf\", \n",
        "               bbox_inches='tight', \n",
        "               transparent=True,\n",
        "               pad_inches=0)\n",
        "plt.show()"
      ]
    },
    {
      "cell_type": "code",
      "execution_count": null,
      "id": "e900fabd",
      "metadata": {
        "id": "e900fabd"
      },
      "outputs": [],
      "source": [
        ""
      ]
    },
    {
      "cell_type": "code",
      "execution_count": null,
      "id": "b43d1ca6",
      "metadata": {
        "id": "b43d1ca6",
        "outputId": "35e7d2d5-61cb-499a-e0ab-74c143222718"
      },
      "outputs": [
        {
          "name": "stdout",
          "output_type": "stream",
          "text": [
            "epoch 0 batch 0 loss 0.0007813481986522674 accuracy 0.94\n",
            "epoch 0 batch 100 loss 0.04448113761143759 accuracy 98.62\n",
            "epoch 0 batch 200 loss 0.04865538273588754 accuracy 98.62\n",
            "epoch 0 batch 300 loss 0.03479887130437419 accuracy 98.92\n",
            "epoch 0 batch 400 loss 0.05333154069900047 accuracy 98.68\n",
            "epoch 0 batch 500 loss 0.052680392814800144 accuracy 98.67\n",
            "epoch 0 batch 600 loss 0.059881296155508607 accuracy 98.32\n",
            "epoch 0 batch 700 loss 0.06134716436965391 accuracy 98.26\n",
            "epoch 0 batch 800 loss 0.03568944214493967 accuracy 98.74\n",
            "epoch 0 batch 900 loss 0.03951097342651337 accuracy 98.92\n",
            "epoch 0 batch 1000 loss 0.043401430126978086 accuracy 98.8\n",
            "epoch 0 batch 1100 loss 0.05131837118067779 accuracy 98.44\n",
            "epoch 0 batch 1200 loss 0.04795790673000738 accuracy 98.74\n",
            "epoch 0 batch 1300 loss 0.03282762864138931 accuracy 99.22\n",
            "epoch 0 batch 1400 loss 0.06351959827006795 accuracy 98.14\n",
            "epoch 0 batch 1500 loss 0.06437087214086205 accuracy 98.56\n",
            "epoch 0 batch 1600 loss 0.05593233091873117 accuracy 98.8\n",
            "epoch 0 batch 1700 loss 0.04778824187524151 accuracy 98.62\n",
            "epoch 0 batch 1800 loss 0.03985391019436065 accuracy 98.38\n",
            "epoch 0 batch 1900 loss 0.03232594687608071 accuracy 99.16\n",
            "epoch 0 batch 2000 loss 0.03315693043987267 accuracy 99.16\n",
            "epoch 0 batch 2100 loss 0.03056833043228835 accuracy 98.92\n",
            "epoch 0 batch 2200 loss 0.05589805363444612 accuracy 98.38\n",
            "epoch 0 batch 2300 loss 0.05803881872794591 accuracy 98.26\n",
            "epoch 0 batch 2400 loss 0.04726531140389852 accuracy 98.5\n",
            "epoch 0 batch 2500 loss 0.05115046232880559 accuracy 98.56\n",
            "epoch 0 batch 2600 loss 0.05123930501635186 accuracy 98.2\n",
            "epoch 0 batch 2700 loss 0.036006912153679876 accuracy 98.62\n",
            "epoch 0 batch 2800 loss 0.05031343528069556 accuracy 98.68\n",
            "epoch 0 batch 2900 loss 0.05023902243003249 accuracy 98.48\n",
            "epoch 0 batch 3000 loss 0.05412903248565271 accuracy 98.68\n",
            "epoch 0 batch 3100 loss 0.042621592854266054 accuracy 98.68\n",
            "epoch 0 batch 3200 loss 0.049262620074441654 accuracy 98.74\n",
            "epoch 0 batch 3300 loss 0.04330757935880683 accuracy 98.86\n",
            "epoch 0 batch 3400 loss 0.03216674397699535 accuracy 98.98\n",
            "epoch 0 batch 3500 loss 0.04247844117868226 accuracy 98.74\n",
            "epoch 0 batch 3600 loss 0.057650981871411204 accuracy 98.44\n",
            "epoch 0 batch 3700 loss 0.04816345149884001 accuracy 98.74\n",
            "epoch 0 batch 3800 loss 0.04415505668264814 accuracy 98.74\n",
            "epoch 0 batch 3900 loss 0.04090805143467151 accuracy 98.62\n",
            "epoch 0 batch 4000 loss 0.06416306246886962 accuracy 98.26\n",
            "epoch 0 batch 4100 loss 0.05910159195540473 accuracy 98.5\n",
            "epoch 0 batch 4200 loss 0.03827889038482681 accuracy 99.16\n",
            "epoch 0 batch 4300 loss 0.04406857045949437 accuracy 98.37\n",
            "epoch 0 batch 4400 loss 0.04063613872975111 accuracy 98.98\n",
            "epoch 0 batch 4500 loss 0.04233917630743236 accuracy 98.74\n",
            "epoch 0 batch 4600 loss 0.03554118997009937 accuracy 99.16\n",
            "epoch 0 batch 4700 loss 0.04085349687316921 accuracy 98.86\n",
            "epoch 0 batch 4800 loss 0.044592302388045936 accuracy 98.86\n",
            "epoch 0 batch 4900 loss 0.04200737880426459 accuracy 98.62\n",
            "epoch 0 batch 5000 loss 0.052775455276714636 accuracy 98.56\n",
            "epoch 0 batch 5100 loss 0.03538072647177614 accuracy 98.92\n",
            "epoch 0 batch 5200 loss 0.03804066498531029 accuracy 98.91\n",
            "epoch 0 batch 5300 loss 0.06180690131383017 accuracy 98.2\n",
            "epoch 0 batch 5400 loss 0.04190629619639367 accuracy 98.49\n",
            "epoch 0 batch 5500 loss 0.03803210897138342 accuracy 98.8\n",
            "epoch 0 batch 5600 loss 0.04705612452700734 accuracy 98.62\n",
            "epoch 0 batch 5700 loss 0.044701824864605444 accuracy 98.68\n",
            "epoch 0 batch 5800 loss 0.03661254797829315 accuracy 98.86\n",
            "epoch 0 batch 5900 loss 0.04330156965763308 accuracy 98.86\n",
            "epoch 0 batch 6000 loss 0.038465823053848 accuracy 98.74\n",
            "epoch 0 batch 6100 loss 0.05074857690837234 accuracy 98.62\n",
            "epoch 0 batch 6200 loss 0.04281544641125947 accuracy 98.74\n",
            "epoch 0 batch 6300 loss 0.03771157997427508 accuracy 98.86\n",
            "epoch 0 batch 6400 loss 0.03581467556999996 accuracy 99.04\n",
            "epoch 0 batch 6500 loss 0.06122808670159429 accuracy 98.74\n",
            "epoch 0 batch 6600 loss 0.05180976693634875 accuracy 98.62\n",
            "epoch 0 batch 6700 loss 0.04418409237638116 accuracy 98.8\n",
            "epoch 0 batch 6800 loss 0.06280731150181965 accuracy 98.56\n",
            "epoch 0 batch 6900 loss 0.04604484801995568 accuracy 98.56\n",
            "epoch 0 batch 7000 loss 0.03345284354640171 accuracy 98.98\n",
            "epoch 0 batch 7100 loss 0.025247520258417352 accuracy 99.22\n",
            "epoch 0 batch 7200 loss 0.02591903405089397 accuracy 99.34\n",
            "epoch 0 batch 7300 loss 0.055779892893042415 accuracy 98.56\n",
            "epoch 0 batch 7400 loss 0.03798786759783979 accuracy 98.86\n",
            "epoch 0 batch 7500 loss 0.05218453027890064 accuracy 98.62\n",
            "epoch 0 batch 7600 loss 0.02608748086495325 accuracy 99.28\n",
            "epoch 0 batch 7700 loss 0.04230344173149206 accuracy 98.32\n",
            "epoch 0 batch 7800 loss 0.027006948899070266 accuracy 98.98\n",
            "epoch 0 batch 7900 loss 0.025452787335962058 accuracy 99.22\n",
            "epoch 0 batch 8000 loss 0.03237357881036587 accuracy 99.04\n",
            "epoch 0 batch 8100 loss 0.04639057854772546 accuracy 98.32\n",
            "epoch 0 batch 8200 loss 0.04917992450296879 accuracy 98.5\n",
            "epoch 0 batch 8300 loss 0.04235868985764682 accuracy 98.62\n",
            "epoch 0 batch 8400 loss 0.032210286318440924 accuracy 98.74\n",
            "epoch 0 batch 8500 loss 0.05571520135272294 accuracy 98.74\n",
            "epoch 0 batch 8600 loss 0.03724937249266077 accuracy 98.86\n",
            "epoch 0 batch 8700 loss 0.04380346127902158 accuracy 98.68\n",
            "epoch 0 batch 8800 loss 0.04506678282166831 accuracy 98.68\n",
            "epoch 0 batch 8900 loss 0.03347516970476136 accuracy 99.04\n",
            "epoch 0 batch 9000 loss 0.039739348626462744 accuracy 98.86\n",
            "epoch 0 batch 9100 loss 0.03750558065250516 accuracy 99.04\n",
            "epoch 0 batch 9200 loss 0.03696249008469749 accuracy 98.62\n",
            "epoch 0 batch 9300 loss 0.05494679802330211 accuracy 98.32\n",
            "epoch 0 batch 9400 loss 0.037987571913399736 accuracy 98.98\n",
            "epoch 0 batch 9500 loss 0.03920033110189251 accuracy 98.86\n",
            "epoch 0 batch 9600 loss 0.04061377582082059 accuracy 98.74\n",
            "epoch 0 batch 9700 loss 0.04543189211282879 accuracy 98.86\n",
            "epoch 0 batch 9800 loss 0.048758713230490684 accuracy 98.38\n",
            "epoch 0 batch 9900 loss 0.04316191081306897 accuracy 98.74\n",
            "epoch 0 batch 10000 loss 0.027915195943787694 accuracy 99.28\n",
            "epoch 0 batch 10100 loss 0.04033904807176441 accuracy 98.98\n",
            "epoch 0 batch 10200 loss 0.0385199517570436 accuracy 98.79\n",
            "epoch 0 batch 10300 loss 0.04435484630987048 accuracy 98.62\n",
            "epoch 0 batch 10400 loss 0.04707447222201153 accuracy 98.86\n",
            "epoch 0 batch 10500 loss 0.03355692224460654 accuracy 98.86\n",
            "epoch 0 batch 10600 loss 0.04259631034801714 accuracy 98.74\n",
            "epoch 0 batch 10700 loss 0.04096415855572559 accuracy 98.8\n",
            "epoch 0 batch 10800 loss 0.027778212842531503 accuracy 99.16\n",
            "epoch 0 batch 10900 loss 0.063536346424371 accuracy 98.32\n",
            "epoch 0 batch 11000 loss 0.036494279627804646 accuracy 98.97\n",
            "epoch 0 batch 11100 loss 0.05602968585910276 accuracy 98.38\n",
            "epoch 0 batch 11200 loss 0.0571444228454493 accuracy 98.32\n",
            "epoch 0 batch 11300 loss 0.03083952138607856 accuracy 99.1\n",
            "epoch 0 batch 11400 loss 0.03361271296511404 accuracy 99.04\n",
            "epoch 0 batch 11500 loss 0.03948477625148371 accuracy 98.98\n",
            "epoch 0 batch 11600 loss 0.04616692832030821 accuracy 98.32\n",
            "epoch 0 batch 11700 loss 0.03828261221118737 accuracy 98.98\n",
            "epoch 0 batch 11800 loss 0.046374107531737534 accuracy 98.68\n",
            "epoch 0 batch 11900 loss 0.043807300860062244 accuracy 98.86\n",
            "epoch 0 batch 12000 loss 0.04501843507518061 accuracy 98.62\n",
            "epoch 0 batch 12100 loss 0.03754236280219629 accuracy 98.74\n",
            "epoch 0 batch 12200 loss 0.02648195032030344 accuracy 99.16\n",
            "epoch 0 batch 12300 loss 0.030878330488922075 accuracy 99.16\n",
            "epoch 0 batch 12400 loss 0.04253043440170586 accuracy 98.74\n",
            "epoch 0 batch 12500 loss 0.028674010556132997 accuracy 99.22\n",
            "epoch 0 batch 12600 loss 0.03293033090507379 accuracy 99.04\n",
            "epoch 0 batch 12700 loss 0.03802556001261109 accuracy 98.86\n",
            "epoch 0 batch 12800 loss 0.034177143631968644 accuracy 98.8\n",
            "epoch 0 batch 12900 loss 0.029652048071729952 accuracy 99.22\n",
            "epoch 0 batch 13000 loss 0.03355338842608035 accuracy 98.98\n",
            "epoch 0 batch 13100 loss 0.0478547493449878 accuracy 98.62\n",
            "epoch 0 batch 13200 loss 0.040635873290302695 accuracy 98.86\n",
            "epoch 0 batch 13300 loss 0.02882930506253615 accuracy 98.98\n",
            "epoch 0 batch 13400 loss 0.040304455964360386 accuracy 99.04\n",
            "epoch 0 batch 13500 loss 0.02907503919035662 accuracy 99.1\n",
            "epoch 0 batch 13600 loss 0.037613082352909256 accuracy 98.98\n",
            "epoch 0 batch 13700 loss 0.051323658273322505 accuracy 98.92\n",
            "epoch 0 batch 13800 loss 0.04884859154117294 accuracy 98.38\n"
          ]
        },
        {
          "name": "stdout",
          "output_type": "stream",
          "text": [
            "epoch 0 batch 13900 loss 0.04146074287127703 accuracy 98.8\n",
            "epoch 0 batch 14000 loss 0.02953198134957347 accuracy 99.22\n",
            "epoch 0 batch 14100 loss 0.03701556682470255 accuracy 98.98\n",
            "epoch 0 batch 14200 loss 0.02816335261799395 accuracy 99.16\n",
            "epoch 0 batch 14300 loss 0.04022050520696212 accuracy 98.86\n",
            "epoch 0 batch 14400 loss 0.06647307757055387 accuracy 98.36\n",
            "epoch 0 batch 14500 loss 0.03916120740235783 accuracy 98.62\n",
            "epoch 0 batch 14600 loss 0.052614293816732244 accuracy 98.68\n",
            "epoch 0 batch 14700 loss 0.034579660626186524 accuracy 99.16\n",
            "epoch 0 batch 14800 loss 0.03432158537645592 accuracy 99.1\n",
            "epoch 0 batch 14900 loss 0.03343192056112457 accuracy 99.04\n",
            "epoch 0 batch 15000 loss 0.034163428339525126 accuracy 98.92\n",
            "epoch 0 batch 15100 loss 0.0408784461976029 accuracy 98.68\n",
            "epoch 0 batch 15200 loss 0.04213409208721714 accuracy 98.79\n",
            "epoch 0 batch 15300 loss 0.04167403591098264 accuracy 98.68\n",
            "epoch 0 batch 15400 loss 0.037861289304564706 accuracy 98.92\n",
            "epoch 0 batch 15500 loss 0.038380544626852496 accuracy 98.86\n",
            "epoch 0 batch 15600 loss 0.02927056071232073 accuracy 99.04\n",
            "epoch 0 batch 15700 loss 0.04487529915291816 accuracy 98.68\n",
            "epoch 0 batch 15800 loss 0.0438329474942293 accuracy 98.68\n",
            "epoch 0 batch 15900 loss 0.03013063226651866 accuracy 99.46\n",
            "epoch 0 batch 16000 loss 0.03849920285050757 accuracy 98.8\n",
            "epoch 0 batch 16100 loss 0.03575551380054094 accuracy 98.92\n",
            "epoch 0 batch 16200 loss 0.055366865240503105 accuracy 98.5\n",
            "epoch 0 batch 16300 loss 0.03241450933506712 accuracy 98.92\n",
            "epoch 0 batch 16400 loss 0.030769296884536744 accuracy 99.04\n",
            "epoch 0 batch 16500 loss 0.029576350809657016 accuracy 99.09\n",
            "epoch 0 batch 16600 loss 0.03860621795349289 accuracy 99.1\n",
            "epoch 0 batch 16700 loss 0.03791752922814339 accuracy 98.74\n",
            "epoch 0 batch 16800 loss 0.03937602341757156 accuracy 99.04\n",
            "epoch 0 batch 16900 loss 0.03380241942126304 accuracy 99.16\n",
            "epoch 0 batch 17000 loss 0.025951129363384097 accuracy 99.04\n",
            "epoch 0 batch 17100 loss 0.03479575143952388 accuracy 99.16\n",
            "epoch 0 batch 17200 loss 0.04091220837086439 accuracy 98.8\n",
            "epoch 0 batch 17300 loss 0.02519125597551465 accuracy 99.34\n",
            "epoch 0 batch 17400 loss 0.03834508515545167 accuracy 98.74\n",
            "epoch 0 batch 17500 loss 0.03596941300027538 accuracy 98.8\n",
            "epoch 0 batch 17600 loss 0.029020165998954326 accuracy 98.98\n",
            "epoch 0 batch 17700 loss 0.039889725007815284 accuracy 98.92\n",
            "epoch 0 batch 17800 loss 0.030011014848714695 accuracy 99.16\n",
            "epoch 0 batch 17900 loss 0.053698522674385456 accuracy 98.43\n",
            "epoch 0 batch 18000 loss 0.034422822989872655 accuracy 98.74\n",
            "epoch 0 batch 18100 loss 0.04422610971087124 accuracy 98.62\n",
            "epoch 0 batch 18200 loss 0.034290582058019936 accuracy 98.8\n",
            "epoch 0 batch 18300 loss 0.04331188454583753 accuracy 98.74\n",
            "epoch 0 batch 18400 loss 0.027285671267891304 accuracy 99.04\n",
            "epoch 0 batch 18500 loss 0.028714989539003 accuracy 98.8\n",
            "epoch 0 batch 18600 loss 0.05010707585606724 accuracy 98.5\n",
            "epoch 0 batch 18700 loss 0.0484562917961739 accuracy 98.56\n",
            "epoch 0 batch 18800 loss 0.03974206695682369 accuracy 98.74\n",
            "epoch 0 batch 18900 loss 0.033497786729130896 accuracy 99.04\n",
            "epoch 0 batch 19000 loss 0.044618035548191985 accuracy 98.8\n",
            "epoch 0 batch 19100 loss 0.030527757685631512 accuracy 98.98\n",
            "epoch 0 batch 19200 loss 0.035547455133055336 accuracy 99.04\n",
            "epoch 0 batch 19300 loss 0.04994722531235311 accuracy 98.5\n",
            "epoch 0 batch 19400 loss 0.03540490668150596 accuracy 99.03\n",
            "epoch 0 batch 19500 loss 0.03272093372419477 accuracy 98.92\n",
            "epoch 0 batch 19600 loss 0.026243223525816574 accuracy 99.16\n",
            "epoch 0 batch 19700 loss 0.03722637128317729 accuracy 98.86\n",
            "epoch 0 batch 19800 loss 0.03441407934529707 accuracy 99.04\n",
            "epoch 0 batch 19900 loss 0.04521856845531147 accuracy 98.38\n",
            "epoch 0 batch 20000 loss 0.026453381045139394 accuracy 99.1\n",
            "epoch 0 batch 20100 loss 0.042032459558686244 accuracy 98.26\n",
            "epoch 0 batch 20200 loss 0.04640845160756726 accuracy 98.79\n",
            "epoch 0 batch 20300 loss 0.03193064256221987 accuracy 99.04\n",
            "epoch 0 batch 20400 loss 0.028377642785198987 accuracy 99.04\n",
            "epoch 0 batch 20500 loss 0.028318874850519933 accuracy 99.1\n",
            "epoch 0 batch 20600 loss 0.03678764282143675 accuracy 98.98\n",
            "epoch 0 batch 20700 loss 0.03662074666121043 accuracy 98.92\n",
            "epoch 0 batch 20800 loss 0.029445771223399787 accuracy 99.28\n",
            "epoch 0 batch 20900 loss 0.03947340516140684 accuracy 98.74\n"
          ]
        }
      ],
      "source": [
        "# train for a second epoch with learning rate 0.002\n",
        "num_epoches = 1\n",
        "\n",
        "# model\n",
        "model = torch.load(\"AppearanceNN_conv_all_0\")\n",
        "\n",
        "# train the model\n",
        "solver = Solver(model, loader_train, lr=0.002, num_epoches=num_epoches, device=device, print_freq=100, fix_feature_model=False)\n",
        "model, loss_training, training_accuracy = solver.train()"
      ]
    },
    {
      "cell_type": "code",
      "execution_count": null,
      "id": "1f34dfcd",
      "metadata": {
        "id": "1f34dfcd"
      },
      "outputs": [],
      "source": [
        "# save model\n",
        "torch.save(model, \"AppearanceNN_conv_all_1\")"
      ]
    },
    {
      "cell_type": "markdown",
      "id": "63728e2b",
      "metadata": {
        "id": "63728e2b"
      },
      "source": [
        "# evaluate 2-way 1-shot"
      ]
    },
    {
      "cell_type": "code",
      "execution_count": null,
      "id": "6d0a2e1e",
      "metadata": {
        "id": "6d0a2e1e",
        "outputId": "0eecf482-6606-49e4-b3c0-2a86368119a3"
      },
      "outputs": [
        {
          "name": "stdout",
          "output_type": "stream",
          "text": [
            "cuda\n",
            "loading 0 0024b742-acbed4fb\n",
            "loading 1 002d290d-fa2a8964\n",
            "loading 2 000f157f-37797ff9\n",
            "loading 3 007da0eb-1bad8468\n",
            "loading 4 0045e757-66a334b5\n",
            "loading 5 002ab96a-ea678692\n",
            "loading 6 003baca5-70c87fc6\n",
            "loading 7 00721168-56efa5c2\n",
            "loading 8 00488a66-6c729bde\n",
            "loading 9 006676e5-624162a7\n",
            "loading 10 007aeb45-f9f5ac8c\n",
            "loading 11 002d290d-89d1aea8\n",
            "loading 12 007c01ea-ad9f940b\n",
            "loading 13 0033b19f-65613f7e\n",
            "loading 14 003baca5-d6cd84e5\n",
            "loading 15 007693e6-c2a8b9a7\n",
            "loading 16 00810e80-37641274\n",
            "loading 17 00202076-9eaa8e42\n",
            "loading 18 007da0eb-e1f588e8\n",
            "loading 19 006c0799-10697723\n"
          ]
        }
      ],
      "source": [
        "# evaluate\n",
        "device = \"cuda\" if torch.cuda.is_available() else \"cpu\"\n",
        "print(device)\n",
        "\n",
        "# normalize for the pre-trained model\n",
        "tfms = transforms.Compose([transforms.ToTensor(),\n",
        "    transforms.Normalize([0.485, 0.456, 0.406], [0.229, 0.224, 0.225]),transforms.Resize((224,224))])\n",
        "\n",
        "# load the data                 \n",
        "dataset_test = TrackingData(partition=\"test\", transform=tfms)\n",
        "\n",
        "# data loader\n",
        "# loader_train = torch.utils.data.DataLoader(dataset_train, batch_size=16,\n",
        "#                                           shuffle=True)\n",
        "loader_test = torch.utils.data.DataLoader(dataset_test, batch_size=16,\n",
        "                                          shuffle=False)\n"
      ]
    },
    {
      "cell_type": "code",
      "execution_count": null,
      "id": "96698d5b",
      "metadata": {
        "id": "96698d5b",
        "outputId": "3b327f5b-eedb-45f3-bd78-481b29b42776"
      },
      "outputs": [
        {
          "name": "stdout",
          "output_type": "stream",
          "text": [
            "batch 0 accuracy 1.0\n",
            "batch 100 accuracy 99.58\n",
            "batch 200 accuracy 98.62\n",
            "batch 300 accuracy 97.16\n",
            "batch 400 accuracy 95.69\n",
            "batch 500 accuracy 95.59\n",
            "batch 600 accuracy 97.83\n",
            "batch 700 accuracy 98.01\n",
            "batch 800 accuracy 97.53\n",
            "batch 900 accuracy 97.11\n",
            "batch 1000 accuracy 99.52\n",
            "batch 1100 accuracy 99.58\n",
            "batch 1200 accuracy 96.99\n",
            "batch 1300 accuracy 98.2\n",
            "batch 1400 accuracy 96.28\n",
            "batch 1500 accuracy 98.67\n",
            "batch 1600 accuracy 98.74\n",
            "batch 1700 accuracy 98.38\n",
            "batch 1800 accuracy 98.67\n",
            "batch 1900 accuracy 98.73\n",
            "batch 2000 accuracy 98.13\n",
            "batch 2100 accuracy 98.44\n",
            "batch 2200 accuracy 98.55\n",
            "batch 2300 accuracy 98.43\n",
            "batch 2400 accuracy 98.07\n",
            "batch 2500 accuracy 98.32\n",
            "batch 2600 accuracy 98.25\n",
            "batch 2700 accuracy 97.89\n",
            "batch 2800 accuracy 97.71\n",
            "batch 2900 accuracy 97.72\n",
            "batch 3000 accuracy 97.3\n",
            "batch 3100 accuracy 98.8\n",
            "batch 3200 accuracy 98.2\n",
            "batch 3300 accuracy 97.17\n",
            "batch 3400 accuracy 98.2\n",
            "batch 3500 accuracy 98.32\n",
            "batch 3600 accuracy 98.74\n",
            "batch 3700 accuracy 99.1\n",
            "batch 3800 accuracy 98.92\n",
            "batch 3900 accuracy 99.04\n",
            "batch 4000 accuracy 98.8\n",
            "batch 4100 accuracy 98.38\n",
            "batch 4200 accuracy 98.8\n",
            "batch 4300 accuracy 98.74\n",
            "batch 4400 accuracy 98.01\n",
            "batch 4500 accuracy 99.4\n",
            "test_accuracy: 98.19209538529476\n"
          ]
        }
      ],
      "source": [
        "# training accuracy and test accuracy of the classifier after training\n",
        "model = torch.load(\"AppearanceNN_conv_all_0\")\n",
        "model.eval()\n",
        "\n",
        "solver = Solver(model, None, dataloader_test=loader_test, device=device,  print_freq=100)\n",
        "test_accuracy = solver.evaluate()\n",
        "print(\"test_accuracy:\", test_accuracy)"
      ]
    },
    {
      "cell_type": "code",
      "execution_count": null,
      "id": "6e3670b8",
      "metadata": {
        "id": "6e3670b8",
        "outputId": "d77a42f7-4a82-4ad0-8f40-d1463cbc2905"
      },
      "outputs": [
        {
          "name": "stdout",
          "output_type": "stream",
          "text": [
            "batch 0 accuracy 0.94\n",
            "batch 100 accuracy 96.82\n",
            "batch 200 accuracy 99.22\n",
            "batch 300 accuracy 97.77\n",
            "batch 400 accuracy 97.12\n",
            "batch 500 accuracy 95.65\n",
            "batch 600 accuracy 97.95\n",
            "batch 700 accuracy 98.32\n",
            "batch 800 accuracy 97.71\n",
            "batch 900 accuracy 98.26\n",
            "batch 1000 accuracy 99.94\n",
            "batch 1100 accuracy 100.0\n",
            "batch 1200 accuracy 97.84\n",
            "batch 1300 accuracy 96.92\n",
            "batch 1400 accuracy 95.65\n",
            "batch 1500 accuracy 98.25\n",
            "batch 1600 accuracy 98.38\n",
            "batch 1700 accuracy 98.14\n",
            "batch 1800 accuracy 98.01\n",
            "batch 1900 accuracy 98.18\n",
            "batch 2000 accuracy 98.01\n",
            "batch 2100 accuracy 97.83\n",
            "batch 2200 accuracy 98.01\n",
            "batch 2300 accuracy 98.25\n",
            "batch 2400 accuracy 98.13\n",
            "batch 2500 accuracy 98.5\n",
            "batch 2600 accuracy 98.44\n",
            "batch 2700 accuracy 98.01\n",
            "batch 2800 accuracy 98.2\n",
            "batch 2900 accuracy 98.08\n",
            "batch 3000 accuracy 98.02\n",
            "batch 3100 accuracy 99.22\n",
            "batch 3200 accuracy 98.01\n",
            "batch 3300 accuracy 96.09\n",
            "batch 3400 accuracy 95.58\n",
            "batch 3500 accuracy 98.49\n",
            "batch 3600 accuracy 98.8\n",
            "batch 3700 accuracy 98.86\n",
            "batch 3800 accuracy 97.12\n",
            "batch 3900 accuracy 98.2\n",
            "batch 4000 accuracy 97.17\n",
            "batch 4100 accuracy 98.74\n",
            "batch 4200 accuracy 99.34\n",
            "batch 4300 accuracy 98.98\n",
            "batch 4400 accuracy 98.38\n",
            "batch 4500 accuracy 99.7\n",
            "test_accuracy: 98.06071980569662\n"
          ]
        }
      ],
      "source": [
        "# training accuracy and test accuracy of the classifier after training\n",
        "model = torch.load(\"AppearanceNN_conv_all_1\")\n",
        "model.eval()\n",
        "\n",
        "solver = Solver(model, None, dataloader_test=loader_test, device=device,  print_freq=100)\n",
        "test_accuracy = solver.evaluate()\n",
        "print(\"test_accuracy:\", test_accuracy)"
      ]
    },
    {
      "cell_type": "code",
      "execution_count": null,
      "id": "54a3d837",
      "metadata": {
        "id": "54a3d837"
      },
      "outputs": [],
      "source": [
        ""
      ]
    },
    {
      "cell_type": "code",
      "execution_count": null,
      "id": "7b201207",
      "metadata": {
        "id": "7b201207"
      },
      "outputs": [],
      "source": [
        ""
      ]
    },
    {
      "cell_type": "markdown",
      "id": "ac9906bb",
      "metadata": {
        "id": "ac9906bb"
      },
      "source": [
        "# evaluate: k-way 1-shot (the real tracking task)\n",
        "\n",
        "we calculate mota score https://arxiv.org/pdf/1603.00831.pdf, https://cvhci.anthropomatik.kit.edu/~stiefel/papers/ECCV2006WorkshopCameraReady.pdf.\n",
        "If we have bounding box, then determining which object is which is not difficult. Detection objects iis the bottleneck."
      ]
    },
    {
      "cell_type": "code",
      "execution_count": null,
      "id": "f7a26920",
      "metadata": {
        "id": "f7a26920"
      },
      "outputs": [],
      "source": [
        "class visualTracker(object):\n",
        "    # initialize\n",
        "    def __init__(self, model = None, transform=None, device=None, score_threshold =0.7):\n",
        "        self.id_to_cropped_image = {} # from object id to cropped image of the object \n",
        "        self.id_to_frame_and_bb = {} # from id to a list of tuples of the form (frame_num, bounnding box)\n",
        "        self.frame_num = 0 # the number of frames we have seen for the current video\n",
        "        self.next_id = 0 # we assign new unique ids starting from 0\n",
        "        self.model = model.to(device) # AppearanceNN\n",
        "        self.transform = transform\n",
        "        self.score_threshold = score_threshold\n",
        "        \n",
        "    # add a new frame with detected bounding boxes\n",
        "    def add_frame(self, bounding_boxes, image):\n",
        "        # for each bounding boxes in the new frame, get the matched object id\n",
        "        # if an object does not match to any existing objects in the past frames, assign a new id to it\n",
        "        for bb, bb_id in bounding_boxes:\n",
        "            cropped_image, id_assigned = self.get_object_id_for_single_bb(bb, image)\n",
        "            if id_assigned not in self.id_to_frame_and_bb:\n",
        "                self.id_to_frame_and_bb[id_assigned] = [(self.frame_num, bb_id, bb)]\n",
        "            else:\n",
        "                self.id_to_frame_and_bb[id_assigned].append((self.frame_num, bb_id, bb))\n",
        "            self.id_to_cropped_image[id_assigned] = cropped_image\n",
        "        \n",
        "        self.frame_num += 1\n",
        "        \n",
        "    # return the extracted feature and the matched unique object id for a single object\n",
        "    # it does not add the object into the mapping\n",
        "    def get_object_id_for_single_bb(self, bounding_box, image):\n",
        "        crop_image = Image.fromarray(image[round(bounding_box['y1']):round(bounding_box['y2']),\n",
        "                                           round(bounding_box['x1']):round(bounding_box['x2']),:][:,:,::-1])\n",
        "        crop_image = self.transform(crop_image).unsqueeze(0)\n",
        "        id_assigned = self.next_id\n",
        "        best_score = self.score_threshold # assign a new id unless we find that it's pretty similar to a previous object\n",
        "        \n",
        "        # get similarity score\n",
        "        for object_id, object_image in self.id_to_cropped_image.items():\n",
        "            score = self.model((crop_image.to(device), object_image.to(device)))\n",
        "            if score>best_score:\n",
        "                id_assigned = object_id\n",
        "                best_score = score\n",
        "        if id_assigned == self.next_id:\n",
        "            self.next_id+=1\n",
        "        return crop_image, id_assigned\n",
        "    \n",
        "    # return a mapping from unique objects ids to bounding_boxes for the current frame\n",
        "    def get_trackings_single_frame(self):\n",
        "        new_map = {}\n",
        "        for key, value in self.id_to_frame_and_bb.items():\n",
        "            # include the frame in results only if it occurs in the last frame\n",
        "            if value[-1][0] == self.frame_num-1:\n",
        "                new_map[key] = value[-1]\n",
        "        return new_map\n",
        "    \n",
        "    # return a mapping from unique objects ids to a list of bounding_boxes for all frame\n",
        "    def get_trackings_all_frame(self):\n",
        "        return self.id_to_frame_and_bb\n",
        "    \n",
        "    # reset the assigned object ids and the frames that have been seen\n",
        "    def reset(self):\n",
        "        self.id_to_feature_maps = {} # from id to feature maps\n",
        "        self.id_to_frame_and_bb = {} # from id to a list of tuples of the form (frame_num, bounnding box)\n",
        "        self.frame_num = 0 # the number of frames we have seen for the current video\n",
        "        self.next_id = 0 # we assign new unique ids starting from 0"
      ]
    },
    {
      "cell_type": "code",
      "execution_count": null,
      "id": "5005f343",
      "metadata": {
        "id": "5005f343"
      },
      "outputs": [],
      "source": [
        ""
      ]
    },
    {
      "cell_type": "code",
      "execution_count": null,
      "id": "951d336d",
      "metadata": {
        "id": "951d336d",
        "outputId": "3a32af55-06af-410b-9ecc-f8fefd41ac2a"
      },
      "outputs": [
        {
          "data": {
            "text/plain": [
              "{0: [(0, 'box1')], 1: [(0, 'box2')], 2: [(1, 'box3')], 3: [(1, 'box4')]}"
            ]
          },
          "execution_count": 40,
          "metadata": {},
          "output_type": "execute_result"
        }
      ],
      "source": [
        "visual_tracker.add_frame([\"box1\", \"box2\"], \"image\")\n",
        "visual_tracker.add_frame([\"box3\", \"box4\"], \"image\")\n",
        "visual_tracker.get_trackings_all_frame()"
      ]
    },
    {
      "cell_type": "code",
      "execution_count": null,
      "id": "c7058c08",
      "metadata": {
        "id": "c7058c08",
        "outputId": "b1e01f27-c923-4f0c-ddaf-eac1d4ea017d"
      },
      "outputs": [
        {
          "data": {
            "text/plain": [
              "{2: (1, 'box3'), 3: (1, 'box4')}"
            ]
          },
          "execution_count": 41,
          "metadata": {},
          "output_type": "execute_result"
        }
      ],
      "source": [
        "visual_tracker.get_trackings_single_frame()"
      ]
    },
    {
      "cell_type": "code",
      "execution_count": null,
      "id": "b467b7b5",
      "metadata": {
        "id": "b467b7b5",
        "outputId": "16d33768-f812-4e0e-bdbb-cb94d51d3c41"
      },
      "outputs": [
        {
          "data": {
            "text/plain": [
              "{0: [(0, 'box1')], 1: [(0, 'box2')], 2: [(1, 'box3')], 3: [(1, 'box4')]}"
            ]
          },
          "execution_count": 42,
          "metadata": {},
          "output_type": "execute_result"
        }
      ],
      "source": [
        "visual_tracker.reset()\n",
        "visual_tracker.add_frame([\"box1\", \"box2\"], \"image\")\n",
        "visual_tracker.add_frame([\"box3\", \"box4\"], \"image\")\n",
        "visual_tracker.get_trackings_all_frame()"
      ]
    },
    {
      "cell_type": "code",
      "execution_count": null,
      "id": "60e42f69",
      "metadata": {
        "id": "60e42f69",
        "outputId": "6295745a-db09-47ce-a9b8-1a58129cd868"
      },
      "outputs": [
        {
          "data": {
            "text/plain": [
              "([1], 4)"
            ]
          },
          "execution_count": 43,
          "metadata": {},
          "output_type": "execute_result"
        }
      ],
      "source": [
        "visual_tracker.get_object_id_for_single_bb(\"box5\", \"image\")"
      ]
    },
    {
      "cell_type": "code",
      "execution_count": null,
      "id": "5a483364",
      "metadata": {
        "scrolled": true,
        "id": "5a483364",
        "outputId": "2814d6ba-a658-44a2-dbad-3bf7790933d5"
      },
      "outputs": [
        {
          "name": "stdout",
          "output_type": "stream",
          "text": [
            "evaluating 0 0024b742-acbed4fb\n",
            "2 0.010526315789473684\n",
            "evaluating 1 002d290d-fa2a8964\n",
            "20 0.03816793893129771\n",
            "evaluating 2 000f157f-37797ff9\n",
            "28 0.03773584905660377\n",
            "evaluating 3 007da0eb-1bad8468\n",
            "32 0.033229491173416406\n",
            "evaluating 4 0045e757-66a334b5\n",
            "39 0.03321976149914821\n",
            "evaluating 5 002ab96a-ea678692\n",
            "43 0.029351535836177476\n",
            "evaluating 6 003baca5-70c87fc6\n",
            "44 0.027586206896551724\n",
            "evaluating 7 00721168-56efa5c2\n",
            "44 0.025897586815773983\n",
            "evaluating 8 00488a66-6c729bde\n",
            "45 0.022102161100196464\n",
            "evaluating 9 006676e5-624162a7\n",
            "51 0.02289048473967684\n",
            "evaluating 10 007aeb45-f9f5ac8c\n",
            "56 0.021671826625386997\n",
            "evaluating 11 002d290d-89d1aea8\n",
            "136 0.039102932719954\n",
            "evaluating 12 007c01ea-ad9f940b\n",
            "146 0.03814002089864159\n",
            "evaluating 13 0033b19f-65613f7e\n",
            "157 0.03783132530120482\n",
            "evaluating 14 003baca5-d6cd84e5\n",
            "157 0.03663943990665111\n",
            "evaluating 15 007693e6-c2a8b9a7\n",
            "157 0.03470380194518125\n",
            "evaluating 16 00810e80-37641274\n",
            "157 0.032317826265953066\n",
            "evaluating 17 00202076-9eaa8e42\n",
            "169 0.03224575462697958\n",
            "evaluating 18 007da0eb-e1f588e8\n",
            "171 0.031393427574811825\n",
            "evaluating 19 006c0799-10697723\n",
            "171 0.030042164441321153\n"
          ]
        }
      ],
      "source": [
        "device = \"cuda\" if torch.cuda.is_available() else \"cpu\"\n",
        "partition=\"test\"\n",
        "# model = torch.load(\"AppearanceNN_conv_all_0\").to(device)\n",
        "model.eval()\n",
        "tfms = transforms.Compose([transforms.ToTensor(),\n",
        "    transforms.Normalize([0.485, 0.456, 0.406], [0.229, 0.224, 0.225]),transforms.Resize((224,224))])\n",
        "visual_tracker = visualTracker(model = model, transform=tfms, device=device)\n",
        "\n",
        "with open(\"bdd100k/labels.pickle\", \"rb\") as file:\n",
        "    all_labels = pickle.load(file)\n",
        "with open('bdd100k/'+partition+'.txt', 'r') as f:\n",
        "    filenames = f.read().split(\"\\n\")\n",
        "total_bb = 0\n",
        "FP_FN_IdSwicth_count = 0\n",
        "for i, filename in enumerate(filenames):\n",
        "    print(\"evaluating\",i, filename)\n",
        "    visual_tracker.reset()\n",
        "    gt_bb_to_object_id = {}\n",
        "    assigned_id_to_gt_id = {}\n",
        "    object_id_assigned = set() # record the objects that have been assigned an id\n",
        "    for imagename in os.listdir(\"bdd100k/images/\"+filename):\n",
        "        image = cv2.imread(\"bdd100k/images/\"+filename+\"/\"+imagename)\n",
        "        labels = all_labels[imagename]\n",
        "        bounding_boxes = []\n",
        "        for label in labels:\n",
        "            bb_id = uuid.uuid4()\n",
        "            gt_bb_to_object_id[bb_id]=label[\"id\"]\n",
        "            bounding_boxes.append((label['box2d'],bb_id))\n",
        "        visual_tracker.add_frame(bounding_boxes, image)\n",
        "        mapping = visual_tracker.get_trackings_single_frame()\n",
        "        # verify results\n",
        "        for assigned_id, data in mapping.items():\n",
        "            bb_id = data[1]\n",
        "            if assigned_id not in assigned_id_to_gt_id:\n",
        "                if gt_bb_to_object_id[bb_id] not in object_id_assigned:\n",
        "                    # the object enters the scence for the first time\n",
        "                    assigned_id_to_gt_id[assigned_id] = gt_bb_to_object_id[bb_id]\n",
        "                else:\n",
        "                    # shouldn't have assigned a new id for an existing object\n",
        "                    object_id_gt = gt_bb_to_object_id[bb_id]\n",
        "                    assigned_id_to_gt_id[assigned_id] = object_id_gt\n",
        "                    for key,value in assigned_id_to_gt_id:\n",
        "                        if value == object_id_gt:\n",
        "                            assigned_id_to_gt_id[key] = None\n",
        "                    FP_FN_IdSwicth_count += 1\n",
        "            elif  gt_bb_to_object_id[bb_id] != assigned_id_to_gt_id[assigned_id]:\n",
        "                    assigned_id_to_gt_id[assigned_id] = gt_bb_to_object_id[bb_id]\n",
        "                    FP_FN_IdSwicth_count += 1\n",
        "#         print(labels)\n",
        "#         print(mapping)\n",
        "#         print(assigned_id_to_gt_id)\n",
        "#         print(FP_FN_IdSwicth_count)\n",
        "    total_bb += len(gt_bb_to_object_id.keys())\n",
        "    print(FP_FN_IdSwicth_count, FP_FN_IdSwicth_count/total_bb)"
      ]
    },
    {
      "cell_type": "code",
      "execution_count": null,
      "id": "b5dcabd7",
      "metadata": {
        "id": "b5dcabd7"
      },
      "outputs": [],
      "source": [
        ""
      ]
    }
  ],
  "metadata": {
    "kernelspec": {
      "display_name": "Python 3",
      "language": "python",
      "name": "python3"
    },
    "language_info": {
      "codemirror_mode": {
        "name": "ipython",
        "version": 3
      },
      "file_extension": ".py",
      "mimetype": "text/x-python",
      "name": "python",
      "nbconvert_exporter": "python",
      "pygments_lexer": "ipython3",
      "version": "3.6.13"
    },
    "colab": {
      "name": "visual_model.ipynb",
      "provenance": [],
      "collapsed_sections": []
    }
  },
  "nbformat": 4,
  "nbformat_minor": 5
}